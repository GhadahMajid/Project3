{
 "cells": [
  {
   "cell_type": "markdown",
   "id": "8e084a92",
   "metadata": {},
   "source": [
    "# Airline Passenger Satisfaction"
   ]
  },
  {
   "cell_type": "markdown",
   "id": "23ce8ccd",
   "metadata": {},
   "source": [
    "<img src=\"https://miro.medium.com/max/1400/1*on8xOgX50TFWUG6WCyvFFA.png\" width=\"800\" />"
   ]
  },
  {
   "cell_type": "markdown",
   "id": "e1a03f41",
   "metadata": {},
   "source": [
    "# Introduction (problem or your goal)"
   ]
  },
  {
   "cell_type": "markdown",
   "id": "69f50c5f",
   "metadata": {},
   "source": [
    "# Dataset Overview and Source\n",
    "\n",
    "US Airline passenger satisfaction survey dataset."
   ]
  },
  {
   "cell_type": "markdown",
   "id": "0759a4d3",
   "metadata": {},
   "source": [
    "# Data Collection"
   ]
  },
  {
   "cell_type": "code",
   "execution_count": 1,
   "id": "0dbfb28a",
   "metadata": {},
   "outputs": [],
   "source": [
    "import warnings\n",
    "warnings.filterwarnings(\"ignore\")\n",
    "import numpy as np\n",
    "import matplotlib.pyplot as plt\n",
    "import pandas as pd\n",
    "import seaborn as sns\n",
    "\n",
    "from sklearn.model_selection import train_test_split\n",
    "from sklearn.metrics import accuracy_score\n",
    "from sklearn import preprocessing\n",
    "from sklearn.model_selection import cross_val_predict\n",
    "from sklearn.model_selection import KFold, cross_val_score\n",
    "from sklearn.model_selection import GridSearchCV\n",
    "from sklearn.metrics import classification_report,confusion_matrix, accuracy_score, plot_confusion_matrix\n",
    "from sklearn import metrics\n",
    "\n",
    "from sklearn import svm\n",
    "from sklearn.ensemble import RandomForestClassifier\n",
    "from sklearn.linear_model import LogisticRegression\n",
    "from sklearn.naive_bayes import GaussianNB\n",
    "from sklearn.neighbors import KNeighborsClassifier\n",
    "from sklearn.tree import DecisionTreeClassifier\n"
   ]
  },
  {
   "cell_type": "code",
   "execution_count": 2,
   "id": "1daba0ad",
   "metadata": {},
   "outputs": [],
   "source": [
    "# df.to_csv('Airline_Passenger_Satisfaction.csv')\n",
    "# df1x =  pd.read_excel('satisfaction.xlsx')\n",
    "# df2x = pd.read_excel('satisfaction_2015.xlsx')\n",
    "# dfx = pd.concat([df1x, df2x], axis=0, ignore_index=True)\n",
    "# dfx.to_csv('Airline_Passenger_Satisfaction_Original.csv')"
   ]
  },
  {
   "cell_type": "markdown",
   "id": "03c556e4",
   "metadata": {},
   "source": [
    "# Data Preparation"
   ]
  },
  {
   "cell_type": "code",
   "execution_count": 59,
   "id": "987510f3",
   "metadata": {},
   "outputs": [
    {
     "data": {
      "text/html": [
       "<div>\n",
       "<style scoped>\n",
       "    .dataframe tbody tr th:only-of-type {\n",
       "        vertical-align: middle;\n",
       "    }\n",
       "\n",
       "    .dataframe tbody tr th {\n",
       "        vertical-align: top;\n",
       "    }\n",
       "\n",
       "    .dataframe thead th {\n",
       "        text-align: right;\n",
       "    }\n",
       "</style>\n",
       "<table border=\"1\" class=\"dataframe\">\n",
       "  <thead>\n",
       "    <tr style=\"text-align: right;\">\n",
       "      <th></th>\n",
       "      <th>id</th>\n",
       "      <th>satisfaction_v2</th>\n",
       "      <th>Gender</th>\n",
       "      <th>Customer Type</th>\n",
       "      <th>Age</th>\n",
       "      <th>Type of Travel</th>\n",
       "      <th>Class</th>\n",
       "      <th>Flight Distance</th>\n",
       "      <th>Seat comfort</th>\n",
       "      <th>Departure/Arrival time convenient</th>\n",
       "      <th>...</th>\n",
       "      <th>Ease of Online booking</th>\n",
       "      <th>On-board service</th>\n",
       "      <th>Leg room service</th>\n",
       "      <th>Baggage handling</th>\n",
       "      <th>Checkin service</th>\n",
       "      <th>Cleanliness</th>\n",
       "      <th>Online boarding</th>\n",
       "      <th>Departure Delay in Minutes</th>\n",
       "      <th>Arrival Delay in Minutes</th>\n",
       "      <th>Inflight service</th>\n",
       "    </tr>\n",
       "  </thead>\n",
       "  <tbody>\n",
       "    <tr>\n",
       "      <th>0</th>\n",
       "      <td>11112</td>\n",
       "      <td>satisfied</td>\n",
       "      <td>Female</td>\n",
       "      <td>Loyal Customer</td>\n",
       "      <td>65</td>\n",
       "      <td>Personal Travel</td>\n",
       "      <td>Eco</td>\n",
       "      <td>265</td>\n",
       "      <td>0</td>\n",
       "      <td>0</td>\n",
       "      <td>...</td>\n",
       "      <td>3</td>\n",
       "      <td>3</td>\n",
       "      <td>0</td>\n",
       "      <td>3</td>\n",
       "      <td>5</td>\n",
       "      <td>3</td>\n",
       "      <td>2</td>\n",
       "      <td>0</td>\n",
       "      <td>0.0</td>\n",
       "      <td>NaN</td>\n",
       "    </tr>\n",
       "    <tr>\n",
       "      <th>1</th>\n",
       "      <td>110278</td>\n",
       "      <td>satisfied</td>\n",
       "      <td>Male</td>\n",
       "      <td>Loyal Customer</td>\n",
       "      <td>47</td>\n",
       "      <td>Personal Travel</td>\n",
       "      <td>Business</td>\n",
       "      <td>2464</td>\n",
       "      <td>0</td>\n",
       "      <td>0</td>\n",
       "      <td>...</td>\n",
       "      <td>3</td>\n",
       "      <td>4</td>\n",
       "      <td>4</td>\n",
       "      <td>4</td>\n",
       "      <td>2</td>\n",
       "      <td>3</td>\n",
       "      <td>2</td>\n",
       "      <td>310</td>\n",
       "      <td>305.0</td>\n",
       "      <td>NaN</td>\n",
       "    </tr>\n",
       "    <tr>\n",
       "      <th>2</th>\n",
       "      <td>103199</td>\n",
       "      <td>satisfied</td>\n",
       "      <td>Female</td>\n",
       "      <td>Loyal Customer</td>\n",
       "      <td>15</td>\n",
       "      <td>Personal Travel</td>\n",
       "      <td>Eco</td>\n",
       "      <td>2138</td>\n",
       "      <td>0</td>\n",
       "      <td>0</td>\n",
       "      <td>...</td>\n",
       "      <td>2</td>\n",
       "      <td>3</td>\n",
       "      <td>3</td>\n",
       "      <td>4</td>\n",
       "      <td>4</td>\n",
       "      <td>4</td>\n",
       "      <td>2</td>\n",
       "      <td>0</td>\n",
       "      <td>0.0</td>\n",
       "      <td>NaN</td>\n",
       "    </tr>\n",
       "    <tr>\n",
       "      <th>3</th>\n",
       "      <td>47462</td>\n",
       "      <td>satisfied</td>\n",
       "      <td>Female</td>\n",
       "      <td>Loyal Customer</td>\n",
       "      <td>60</td>\n",
       "      <td>Personal Travel</td>\n",
       "      <td>Eco</td>\n",
       "      <td>623</td>\n",
       "      <td>0</td>\n",
       "      <td>0</td>\n",
       "      <td>...</td>\n",
       "      <td>1</td>\n",
       "      <td>1</td>\n",
       "      <td>0</td>\n",
       "      <td>1</td>\n",
       "      <td>4</td>\n",
       "      <td>1</td>\n",
       "      <td>3</td>\n",
       "      <td>0</td>\n",
       "      <td>0.0</td>\n",
       "      <td>NaN</td>\n",
       "    </tr>\n",
       "    <tr>\n",
       "      <th>4</th>\n",
       "      <td>120011</td>\n",
       "      <td>satisfied</td>\n",
       "      <td>Female</td>\n",
       "      <td>Loyal Customer</td>\n",
       "      <td>70</td>\n",
       "      <td>Personal Travel</td>\n",
       "      <td>Eco</td>\n",
       "      <td>354</td>\n",
       "      <td>0</td>\n",
       "      <td>0</td>\n",
       "      <td>...</td>\n",
       "      <td>2</td>\n",
       "      <td>2</td>\n",
       "      <td>0</td>\n",
       "      <td>2</td>\n",
       "      <td>4</td>\n",
       "      <td>2</td>\n",
       "      <td>5</td>\n",
       "      <td>0</td>\n",
       "      <td>0.0</td>\n",
       "      <td>NaN</td>\n",
       "    </tr>\n",
       "  </tbody>\n",
       "</table>\n",
       "<p>5 rows × 25 columns</p>\n",
       "</div>"
      ],
      "text/plain": [
       "       id satisfaction_v2  Gender   Customer Type  Age   Type of Travel  \\\n",
       "0   11112       satisfied  Female  Loyal Customer   65  Personal Travel   \n",
       "1  110278       satisfied    Male  Loyal Customer   47  Personal Travel   \n",
       "2  103199       satisfied  Female  Loyal Customer   15  Personal Travel   \n",
       "3   47462       satisfied  Female  Loyal Customer   60  Personal Travel   \n",
       "4  120011       satisfied  Female  Loyal Customer   70  Personal Travel   \n",
       "\n",
       "      Class  Flight Distance  Seat comfort  Departure/Arrival time convenient  \\\n",
       "0       Eco              265             0                                  0   \n",
       "1  Business             2464             0                                  0   \n",
       "2       Eco             2138             0                                  0   \n",
       "3       Eco              623             0                                  0   \n",
       "4       Eco              354             0                                  0   \n",
       "\n",
       "   ...  Ease of Online booking  On-board service  Leg room service  \\\n",
       "0  ...                       3                 3                 0   \n",
       "1  ...                       3                 4                 4   \n",
       "2  ...                       2                 3                 3   \n",
       "3  ...                       1                 1                 0   \n",
       "4  ...                       2                 2                 0   \n",
       "\n",
       "   Baggage handling  Checkin service  Cleanliness  Online boarding  \\\n",
       "0                 3                5            3                2   \n",
       "1                 4                2            3                2   \n",
       "2                 4                4            4                2   \n",
       "3                 1                4            1                3   \n",
       "4                 2                4            2                5   \n",
       "\n",
       "   Departure Delay in Minutes  Arrival Delay in Minutes  Inflight service  \n",
       "0                           0                       0.0               NaN  \n",
       "1                         310                     305.0               NaN  \n",
       "2                           0                       0.0               NaN  \n",
       "3                           0                       0.0               NaN  \n",
       "4                           0                       0.0               NaN  \n",
       "\n",
       "[5 rows x 25 columns]"
      ]
     },
     "execution_count": 59,
     "metadata": {},
     "output_type": "execute_result"
    }
   ],
   "source": [
    "df = pd.read_csv(\"Airline_Passenger_Satisfaction_Original.csv\", index_col=0)\n",
    "df.head()"
   ]
  },
  {
   "cell_type": "code",
   "execution_count": 60,
   "id": "9423feaa",
   "metadata": {},
   "outputs": [
    {
     "data": {
      "text/plain": [
       "(259760, 25)"
      ]
     },
     "execution_count": 60,
     "metadata": {},
     "output_type": "execute_result"
    }
   ],
   "source": [
    "df.shape"
   ]
  },
  {
   "cell_type": "code",
   "execution_count": 62,
   "id": "803f647a",
   "metadata": {
    "scrolled": true
   },
   "outputs": [
    {
     "name": "stdout",
     "output_type": "stream",
     "text": [
      "<class 'pandas.core.frame.DataFrame'>\n",
      "Int64Index: 259760 entries, 0 to 259759\n",
      "Data columns (total 25 columns):\n",
      " #   Column                             Non-Null Count   Dtype  \n",
      "---  ------                             --------------   -----  \n",
      " 0   id                                 259760 non-null  int64  \n",
      " 1   satisfaction_v2                    259760 non-null  object \n",
      " 2   Gender                             259760 non-null  object \n",
      " 3   Customer Type                      259760 non-null  object \n",
      " 4   Age                                259760 non-null  int64  \n",
      " 5   Type of Travel                     259760 non-null  object \n",
      " 6   Class                              259760 non-null  object \n",
      " 7   Flight Distance                    259760 non-null  int64  \n",
      " 8   Seat comfort                       259760 non-null  int64  \n",
      " 9   Departure/Arrival time convenient  259760 non-null  int64  \n",
      " 10  Food and drink                     259760 non-null  int64  \n",
      " 11  Gate location                      259760 non-null  int64  \n",
      " 12  Inflight wifi service              259760 non-null  int64  \n",
      " 13  Inflight entertainment             259760 non-null  int64  \n",
      " 14  Online support                     129880 non-null  float64\n",
      " 15  Ease of Online booking             259760 non-null  int64  \n",
      " 16  On-board service                   259760 non-null  int64  \n",
      " 17  Leg room service                   259760 non-null  int64  \n",
      " 18  Baggage handling                   259760 non-null  int64  \n",
      " 19  Checkin service                    259760 non-null  int64  \n",
      " 20  Cleanliness                        259760 non-null  int64  \n",
      " 21  Online boarding                    259760 non-null  int64  \n",
      " 22  Departure Delay in Minutes         259760 non-null  int64  \n",
      " 23  Arrival Delay in Minutes           258974 non-null  float64\n",
      " 24  Inflight service                   129880 non-null  float64\n",
      "dtypes: float64(3), int64(17), object(5)\n",
      "memory usage: 51.5+ MB\n"
     ]
    }
   ],
   "source": [
    "df.info()"
   ]
  },
  {
   "cell_type": "code",
   "execution_count": 6,
   "id": "8b4543be",
   "metadata": {},
   "outputs": [
    {
     "data": {
      "text/plain": [
       "id                                        0\n",
       "satisfaction_v2                           0\n",
       "Gender                                    0\n",
       "Customer Type                             0\n",
       "Age                                       0\n",
       "Type of Travel                            0\n",
       "Class                                     0\n",
       "Flight Distance                           0\n",
       "Seat comfort                              0\n",
       "Departure/Arrival time convenient         0\n",
       "Food and drink                            0\n",
       "Gate location                             0\n",
       "Inflight wifi service                     0\n",
       "Inflight entertainment                    0\n",
       "Online support                       129880\n",
       "Ease of Online booking                    0\n",
       "On-board service                          0\n",
       "Leg room service                          0\n",
       "Baggage handling                          0\n",
       "Checkin service                           0\n",
       "Cleanliness                               0\n",
       "Online boarding                           0\n",
       "Departure Delay in Minutes                0\n",
       "Arrival Delay in Minutes                786\n",
       "Inflight service                     129880\n",
       "dtype: int64"
      ]
     },
     "execution_count": 6,
     "metadata": {},
     "output_type": "execute_result"
    }
   ],
   "source": [
    "df.isnull().sum()"
   ]
  },
  {
   "cell_type": "code",
   "execution_count": 7,
   "id": "09432ab6",
   "metadata": {},
   "outputs": [],
   "source": [
    "df = df.drop(columns=['Inflight service','Online support', 'Arrival Delay in Minutes', 'id','Gate location','Departure/Arrival time convenient'])\n",
    "# df['Arrival Delay in Minutes'] = df['Arrival Delay in Minutes'].fillna(0)"
   ]
  },
  {
   "cell_type": "code",
   "execution_count": 8,
   "id": "4129634d",
   "metadata": {},
   "outputs": [
    {
     "data": {
      "text/plain": [
       "0"
      ]
     },
     "execution_count": 8,
     "metadata": {},
     "output_type": "execute_result"
    }
   ],
   "source": [
    "df.isnull().sum().sum()"
   ]
  },
  {
   "cell_type": "code",
   "execution_count": 9,
   "id": "c749c780",
   "metadata": {},
   "outputs": [
    {
     "data": {
      "text/html": [
       "<div>\n",
       "<style scoped>\n",
       "    .dataframe tbody tr th:only-of-type {\n",
       "        vertical-align: middle;\n",
       "    }\n",
       "\n",
       "    .dataframe tbody tr th {\n",
       "        vertical-align: top;\n",
       "    }\n",
       "\n",
       "    .dataframe thead th {\n",
       "        text-align: right;\n",
       "    }\n",
       "</style>\n",
       "<table border=\"1\" class=\"dataframe\">\n",
       "  <thead>\n",
       "    <tr style=\"text-align: right;\">\n",
       "      <th></th>\n",
       "      <th>Age</th>\n",
       "      <th>Flight Distance</th>\n",
       "      <th>Seat comfort</th>\n",
       "      <th>Food and drink</th>\n",
       "      <th>Inflight wifi service</th>\n",
       "      <th>Inflight entertainment</th>\n",
       "      <th>Ease of Online booking</th>\n",
       "      <th>On-board service</th>\n",
       "      <th>Leg room service</th>\n",
       "      <th>Baggage handling</th>\n",
       "      <th>Checkin service</th>\n",
       "      <th>Cleanliness</th>\n",
       "      <th>Online boarding</th>\n",
       "      <th>Departure Delay in Minutes</th>\n",
       "    </tr>\n",
       "  </thead>\n",
       "  <tbody>\n",
       "    <tr>\n",
       "      <th>count</th>\n",
       "      <td>259760.000000</td>\n",
       "      <td>259760.000000</td>\n",
       "      <td>259760.000000</td>\n",
       "      <td>259760.000000</td>\n",
       "      <td>259760.000000</td>\n",
       "      <td>259760.000000</td>\n",
       "      <td>259760.000000</td>\n",
       "      <td>259760.000000</td>\n",
       "      <td>259760.000000</td>\n",
       "      <td>259760.000000</td>\n",
       "      <td>259760.000000</td>\n",
       "      <td>259760.000000</td>\n",
       "      <td>259760.000000</td>\n",
       "      <td>259760.000000</td>\n",
       "    </tr>\n",
       "    <tr>\n",
       "      <th>mean</th>\n",
       "      <td>39.427957</td>\n",
       "      <td>1585.862723</td>\n",
       "      <td>3.139979</td>\n",
       "      <td>3.028384</td>\n",
       "      <td>2.988913</td>\n",
       "      <td>3.370777</td>\n",
       "      <td>3.114490</td>\n",
       "      <td>3.424049</td>\n",
       "      <td>3.418390</td>\n",
       "      <td>3.663894</td>\n",
       "      <td>3.323537</td>\n",
       "      <td>3.496043</td>\n",
       "      <td>3.302610</td>\n",
       "      <td>14.713713</td>\n",
       "    </tr>\n",
       "    <tr>\n",
       "      <th>std</th>\n",
       "      <td>15.119331</td>\n",
       "      <td>1086.918816</td>\n",
       "      <td>1.389708</td>\n",
       "      <td>1.399158</td>\n",
       "      <td>1.349414</td>\n",
       "      <td>1.340125</td>\n",
       "      <td>1.400915</td>\n",
       "      <td>1.279649</td>\n",
       "      <td>1.306038</td>\n",
       "      <td>1.168743</td>\n",
       "      <td>1.263503</td>\n",
       "      <td>1.253055</td>\n",
       "      <td>1.325911</td>\n",
       "      <td>38.071053</td>\n",
       "    </tr>\n",
       "    <tr>\n",
       "      <th>min</th>\n",
       "      <td>7.000000</td>\n",
       "      <td>31.000000</td>\n",
       "      <td>0.000000</td>\n",
       "      <td>0.000000</td>\n",
       "      <td>0.000000</td>\n",
       "      <td>0.000000</td>\n",
       "      <td>0.000000</td>\n",
       "      <td>0.000000</td>\n",
       "      <td>0.000000</td>\n",
       "      <td>1.000000</td>\n",
       "      <td>0.000000</td>\n",
       "      <td>0.000000</td>\n",
       "      <td>0.000000</td>\n",
       "      <td>0.000000</td>\n",
       "    </tr>\n",
       "    <tr>\n",
       "      <th>25%</th>\n",
       "      <td>27.000000</td>\n",
       "      <td>606.000000</td>\n",
       "      <td>2.000000</td>\n",
       "      <td>2.000000</td>\n",
       "      <td>2.000000</td>\n",
       "      <td>2.000000</td>\n",
       "      <td>2.000000</td>\n",
       "      <td>3.000000</td>\n",
       "      <td>2.000000</td>\n",
       "      <td>3.000000</td>\n",
       "      <td>3.000000</td>\n",
       "      <td>3.000000</td>\n",
       "      <td>2.000000</td>\n",
       "      <td>0.000000</td>\n",
       "    </tr>\n",
       "    <tr>\n",
       "      <th>50%</th>\n",
       "      <td>40.000000</td>\n",
       "      <td>1510.000000</td>\n",
       "      <td>3.000000</td>\n",
       "      <td>3.000000</td>\n",
       "      <td>3.000000</td>\n",
       "      <td>4.000000</td>\n",
       "      <td>3.000000</td>\n",
       "      <td>4.000000</td>\n",
       "      <td>4.000000</td>\n",
       "      <td>4.000000</td>\n",
       "      <td>3.000000</td>\n",
       "      <td>4.000000</td>\n",
       "      <td>3.000000</td>\n",
       "      <td>0.000000</td>\n",
       "    </tr>\n",
       "    <tr>\n",
       "      <th>75%</th>\n",
       "      <td>51.000000</td>\n",
       "      <td>2297.000000</td>\n",
       "      <td>4.000000</td>\n",
       "      <td>4.000000</td>\n",
       "      <td>4.000000</td>\n",
       "      <td>4.000000</td>\n",
       "      <td>4.000000</td>\n",
       "      <td>4.000000</td>\n",
       "      <td>5.000000</td>\n",
       "      <td>5.000000</td>\n",
       "      <td>4.000000</td>\n",
       "      <td>4.000000</td>\n",
       "      <td>4.000000</td>\n",
       "      <td>12.000000</td>\n",
       "    </tr>\n",
       "    <tr>\n",
       "      <th>max</th>\n",
       "      <td>85.000000</td>\n",
       "      <td>6951.000000</td>\n",
       "      <td>5.000000</td>\n",
       "      <td>5.000000</td>\n",
       "      <td>5.000000</td>\n",
       "      <td>5.000000</td>\n",
       "      <td>5.000000</td>\n",
       "      <td>5.000000</td>\n",
       "      <td>5.000000</td>\n",
       "      <td>5.000000</td>\n",
       "      <td>5.000000</td>\n",
       "      <td>5.000000</td>\n",
       "      <td>5.000000</td>\n",
       "      <td>1592.000000</td>\n",
       "    </tr>\n",
       "  </tbody>\n",
       "</table>\n",
       "</div>"
      ],
      "text/plain": [
       "                 Age  Flight Distance   Seat comfort  Food and drink  \\\n",
       "count  259760.000000    259760.000000  259760.000000   259760.000000   \n",
       "mean       39.427957      1585.862723       3.139979        3.028384   \n",
       "std        15.119331      1086.918816       1.389708        1.399158   \n",
       "min         7.000000        31.000000       0.000000        0.000000   \n",
       "25%        27.000000       606.000000       2.000000        2.000000   \n",
       "50%        40.000000      1510.000000       3.000000        3.000000   \n",
       "75%        51.000000      2297.000000       4.000000        4.000000   \n",
       "max        85.000000      6951.000000       5.000000        5.000000   \n",
       "\n",
       "       Inflight wifi service  Inflight entertainment  Ease of Online booking  \\\n",
       "count          259760.000000           259760.000000           259760.000000   \n",
       "mean                2.988913                3.370777                3.114490   \n",
       "std                 1.349414                1.340125                1.400915   \n",
       "min                 0.000000                0.000000                0.000000   \n",
       "25%                 2.000000                2.000000                2.000000   \n",
       "50%                 3.000000                4.000000                3.000000   \n",
       "75%                 4.000000                4.000000                4.000000   \n",
       "max                 5.000000                5.000000                5.000000   \n",
       "\n",
       "       On-board service  Leg room service  Baggage handling  Checkin service  \\\n",
       "count     259760.000000     259760.000000     259760.000000    259760.000000   \n",
       "mean           3.424049          3.418390          3.663894         3.323537   \n",
       "std            1.279649          1.306038          1.168743         1.263503   \n",
       "min            0.000000          0.000000          1.000000         0.000000   \n",
       "25%            3.000000          2.000000          3.000000         3.000000   \n",
       "50%            4.000000          4.000000          4.000000         3.000000   \n",
       "75%            4.000000          5.000000          5.000000         4.000000   \n",
       "max            5.000000          5.000000          5.000000         5.000000   \n",
       "\n",
       "         Cleanliness  Online boarding  Departure Delay in Minutes  \n",
       "count  259760.000000    259760.000000               259760.000000  \n",
       "mean        3.496043         3.302610                   14.713713  \n",
       "std         1.253055         1.325911                   38.071053  \n",
       "min         0.000000         0.000000                    0.000000  \n",
       "25%         3.000000         2.000000                    0.000000  \n",
       "50%         4.000000         3.000000                    0.000000  \n",
       "75%         4.000000         4.000000                   12.000000  \n",
       "max         5.000000         5.000000                 1592.000000  "
      ]
     },
     "execution_count": 9,
     "metadata": {},
     "output_type": "execute_result"
    }
   ],
   "source": [
    "df.describe()"
   ]
  },
  {
   "cell_type": "code",
   "execution_count": 10,
   "id": "74cb8f96",
   "metadata": {},
   "outputs": [
    {
     "data": {
      "text/html": [
       "<div>\n",
       "<style scoped>\n",
       "    .dataframe tbody tr th:only-of-type {\n",
       "        vertical-align: middle;\n",
       "    }\n",
       "\n",
       "    .dataframe tbody tr th {\n",
       "        vertical-align: top;\n",
       "    }\n",
       "\n",
       "    .dataframe thead th {\n",
       "        text-align: right;\n",
       "    }\n",
       "</style>\n",
       "<table border=\"1\" class=\"dataframe\">\n",
       "  <thead>\n",
       "    <tr style=\"text-align: right;\">\n",
       "      <th></th>\n",
       "      <th>satisfaction_v2</th>\n",
       "      <th>Gender</th>\n",
       "      <th>Customer Type</th>\n",
       "      <th>Type of Travel</th>\n",
       "      <th>Class</th>\n",
       "    </tr>\n",
       "  </thead>\n",
       "  <tbody>\n",
       "    <tr>\n",
       "      <th>count</th>\n",
       "      <td>259760</td>\n",
       "      <td>259760</td>\n",
       "      <td>259760</td>\n",
       "      <td>259760</td>\n",
       "      <td>259760</td>\n",
       "    </tr>\n",
       "    <tr>\n",
       "      <th>unique</th>\n",
       "      <td>2</td>\n",
       "      <td>2</td>\n",
       "      <td>2</td>\n",
       "      <td>2</td>\n",
       "      <td>3</td>\n",
       "    </tr>\n",
       "    <tr>\n",
       "      <th>top</th>\n",
       "      <td>neutral or dissatisfied</td>\n",
       "      <td>Female</td>\n",
       "      <td>Loyal Customer</td>\n",
       "      <td>Business travel</td>\n",
       "      <td>Business</td>\n",
       "    </tr>\n",
       "    <tr>\n",
       "      <th>freq</th>\n",
       "      <td>132245</td>\n",
       "      <td>131798</td>\n",
       "      <td>212200</td>\n",
       "      <td>179386</td>\n",
       "      <td>124320</td>\n",
       "    </tr>\n",
       "  </tbody>\n",
       "</table>\n",
       "</div>"
      ],
      "text/plain": [
       "                satisfaction_v2  Gender   Customer Type   Type of Travel  \\\n",
       "count                    259760  259760          259760           259760   \n",
       "unique                        2       2               2                2   \n",
       "top     neutral or dissatisfied  Female  Loyal Customer  Business travel   \n",
       "freq                     132245  131798          212200           179386   \n",
       "\n",
       "           Class  \n",
       "count     259760  \n",
       "unique         3  \n",
       "top     Business  \n",
       "freq      124320  "
      ]
     },
     "execution_count": 10,
     "metadata": {},
     "output_type": "execute_result"
    }
   ],
   "source": [
    "df.describe(include=['O'])"
   ]
  },
  {
   "cell_type": "code",
   "execution_count": 11,
   "id": "9844fa21",
   "metadata": {},
   "outputs": [
    {
     "data": {
      "text/plain": [
       "3"
      ]
     },
     "execution_count": 11,
     "metadata": {},
     "output_type": "execute_result"
    }
   ],
   "source": [
    "sum(df.duplicated())"
   ]
  },
  {
   "cell_type": "code",
   "execution_count": 12,
   "id": "8ee95f49",
   "metadata": {},
   "outputs": [
    {
     "data": {
      "text/plain": [
       "0"
      ]
     },
     "execution_count": 12,
     "metadata": {},
     "output_type": "execute_result"
    }
   ],
   "source": [
    "df.drop_duplicates(inplace=True)\n",
    "sum(df.duplicated())"
   ]
  },
  {
   "cell_type": "markdown",
   "id": "a1e9d0ea",
   "metadata": {},
   "source": [
    "# Preprocessing and EDA"
   ]
  },
  {
   "cell_type": "code",
   "execution_count": 13,
   "id": "6c154530",
   "metadata": {},
   "outputs": [],
   "source": [
    "df = df.rename({'satisfaction_v2': 'Satisfaction'}, axis=1)"
   ]
  },
  {
   "cell_type": "code",
   "execution_count": 14,
   "id": "546122e3",
   "metadata": {},
   "outputs": [],
   "source": [
    "y = df['Satisfaction']\n",
    "df = df.drop(columns='Satisfaction', axis=1)\n",
    "df['Satisfaction'] = y"
   ]
  },
  {
   "cell_type": "code",
   "execution_count": 15,
   "id": "175c6640",
   "metadata": {},
   "outputs": [
    {
     "data": {
      "text/html": [
       "<div>\n",
       "<style scoped>\n",
       "    .dataframe tbody tr th:only-of-type {\n",
       "        vertical-align: middle;\n",
       "    }\n",
       "\n",
       "    .dataframe tbody tr th {\n",
       "        vertical-align: top;\n",
       "    }\n",
       "\n",
       "    .dataframe thead th {\n",
       "        text-align: right;\n",
       "    }\n",
       "</style>\n",
       "<table border=\"1\" class=\"dataframe\">\n",
       "  <thead>\n",
       "    <tr style=\"text-align: right;\">\n",
       "      <th></th>\n",
       "      <th>Gender</th>\n",
       "      <th>Customer Type</th>\n",
       "      <th>Type of Travel</th>\n",
       "      <th>Class</th>\n",
       "      <th>Satisfaction</th>\n",
       "    </tr>\n",
       "  </thead>\n",
       "  <tbody>\n",
       "    <tr>\n",
       "      <th>0</th>\n",
       "      <td>Female</td>\n",
       "      <td>Loyal Customer</td>\n",
       "      <td>Personal Travel</td>\n",
       "      <td>Eco</td>\n",
       "      <td>satisfied</td>\n",
       "    </tr>\n",
       "    <tr>\n",
       "      <th>1</th>\n",
       "      <td>Male</td>\n",
       "      <td>Loyal Customer</td>\n",
       "      <td>Personal Travel</td>\n",
       "      <td>Business</td>\n",
       "      <td>satisfied</td>\n",
       "    </tr>\n",
       "    <tr>\n",
       "      <th>2</th>\n",
       "      <td>Female</td>\n",
       "      <td>Loyal Customer</td>\n",
       "      <td>Personal Travel</td>\n",
       "      <td>Eco</td>\n",
       "      <td>satisfied</td>\n",
       "    </tr>\n",
       "    <tr>\n",
       "      <th>3</th>\n",
       "      <td>Female</td>\n",
       "      <td>Loyal Customer</td>\n",
       "      <td>Personal Travel</td>\n",
       "      <td>Eco</td>\n",
       "      <td>satisfied</td>\n",
       "    </tr>\n",
       "    <tr>\n",
       "      <th>4</th>\n",
       "      <td>Female</td>\n",
       "      <td>Loyal Customer</td>\n",
       "      <td>Personal Travel</td>\n",
       "      <td>Eco</td>\n",
       "      <td>satisfied</td>\n",
       "    </tr>\n",
       "  </tbody>\n",
       "</table>\n",
       "</div>"
      ],
      "text/plain": [
       "   Gender   Customer Type   Type of Travel     Class Satisfaction\n",
       "0  Female  Loyal Customer  Personal Travel       Eco    satisfied\n",
       "1    Male  Loyal Customer  Personal Travel  Business    satisfied\n",
       "2  Female  Loyal Customer  Personal Travel       Eco    satisfied\n",
       "3  Female  Loyal Customer  Personal Travel       Eco    satisfied\n",
       "4  Female  Loyal Customer  Personal Travel       Eco    satisfied"
      ]
     },
     "execution_count": 15,
     "metadata": {},
     "output_type": "execute_result"
    }
   ],
   "source": [
    "\n",
    "# select all categorical variables\n",
    "df_categorical = df.select_dtypes(include=['object'])\n",
    "df_categorical.head()"
   ]
  },
  {
   "cell_type": "code",
   "execution_count": 16,
   "id": "7be5b413",
   "metadata": {},
   "outputs": [
    {
     "data": {
      "text/html": [
       "<div>\n",
       "<style scoped>\n",
       "    .dataframe tbody tr th:only-of-type {\n",
       "        vertical-align: middle;\n",
       "    }\n",
       "\n",
       "    .dataframe tbody tr th {\n",
       "        vertical-align: top;\n",
       "    }\n",
       "\n",
       "    .dataframe thead th {\n",
       "        text-align: right;\n",
       "    }\n",
       "</style>\n",
       "<table border=\"1\" class=\"dataframe\">\n",
       "  <thead>\n",
       "    <tr style=\"text-align: right;\">\n",
       "      <th></th>\n",
       "      <th>Gender</th>\n",
       "      <th>Customer Type</th>\n",
       "      <th>Type of Travel</th>\n",
       "      <th>Class</th>\n",
       "      <th>Satisfaction</th>\n",
       "    </tr>\n",
       "  </thead>\n",
       "  <tbody>\n",
       "    <tr>\n",
       "      <th>0</th>\n",
       "      <td>0</td>\n",
       "      <td>0</td>\n",
       "      <td>1</td>\n",
       "      <td>1</td>\n",
       "      <td>1</td>\n",
       "    </tr>\n",
       "    <tr>\n",
       "      <th>1</th>\n",
       "      <td>1</td>\n",
       "      <td>0</td>\n",
       "      <td>1</td>\n",
       "      <td>0</td>\n",
       "      <td>1</td>\n",
       "    </tr>\n",
       "    <tr>\n",
       "      <th>2</th>\n",
       "      <td>0</td>\n",
       "      <td>0</td>\n",
       "      <td>1</td>\n",
       "      <td>1</td>\n",
       "      <td>1</td>\n",
       "    </tr>\n",
       "    <tr>\n",
       "      <th>3</th>\n",
       "      <td>0</td>\n",
       "      <td>0</td>\n",
       "      <td>1</td>\n",
       "      <td>1</td>\n",
       "      <td>1</td>\n",
       "    </tr>\n",
       "    <tr>\n",
       "      <th>4</th>\n",
       "      <td>0</td>\n",
       "      <td>0</td>\n",
       "      <td>1</td>\n",
       "      <td>1</td>\n",
       "      <td>1</td>\n",
       "    </tr>\n",
       "  </tbody>\n",
       "</table>\n",
       "</div>"
      ],
      "text/plain": [
       "   Gender  Customer Type  Type of Travel  Class  Satisfaction\n",
       "0       0              0               1      1             1\n",
       "1       1              0               1      0             1\n",
       "2       0              0               1      1             1\n",
       "3       0              0               1      1             1\n",
       "4       0              0               1      1             1"
      ]
     },
     "execution_count": 16,
     "metadata": {},
     "output_type": "execute_result"
    }
   ],
   "source": [
    "# apply Label encoder to df_categorical\n",
    "le = preprocessing.LabelEncoder()\n",
    "df_categorical = df_categorical.apply(le.fit_transform)\n",
    "df_categorical.head()"
   ]
  },
  {
   "cell_type": "code",
   "execution_count": 17,
   "id": "5ac9465e",
   "metadata": {},
   "outputs": [
    {
     "data": {
      "text/html": [
       "<div>\n",
       "<style scoped>\n",
       "    .dataframe tbody tr th:only-of-type {\n",
       "        vertical-align: middle;\n",
       "    }\n",
       "\n",
       "    .dataframe tbody tr th {\n",
       "        vertical-align: top;\n",
       "    }\n",
       "\n",
       "    .dataframe thead th {\n",
       "        text-align: right;\n",
       "    }\n",
       "</style>\n",
       "<table border=\"1\" class=\"dataframe\">\n",
       "  <thead>\n",
       "    <tr style=\"text-align: right;\">\n",
       "      <th></th>\n",
       "      <th>Age</th>\n",
       "      <th>Flight Distance</th>\n",
       "      <th>Seat comfort</th>\n",
       "      <th>Food and drink</th>\n",
       "      <th>Inflight wifi service</th>\n",
       "      <th>Inflight entertainment</th>\n",
       "      <th>Ease of Online booking</th>\n",
       "      <th>On-board service</th>\n",
       "      <th>Leg room service</th>\n",
       "      <th>Baggage handling</th>\n",
       "      <th>Checkin service</th>\n",
       "      <th>Cleanliness</th>\n",
       "      <th>Online boarding</th>\n",
       "      <th>Departure Delay in Minutes</th>\n",
       "      <th>Gender</th>\n",
       "      <th>Customer Type</th>\n",
       "      <th>Type of Travel</th>\n",
       "      <th>Class</th>\n",
       "      <th>Satisfaction</th>\n",
       "    </tr>\n",
       "  </thead>\n",
       "  <tbody>\n",
       "    <tr>\n",
       "      <th>0</th>\n",
       "      <td>65</td>\n",
       "      <td>265</td>\n",
       "      <td>0</td>\n",
       "      <td>0</td>\n",
       "      <td>2</td>\n",
       "      <td>4</td>\n",
       "      <td>3</td>\n",
       "      <td>3</td>\n",
       "      <td>0</td>\n",
       "      <td>3</td>\n",
       "      <td>5</td>\n",
       "      <td>3</td>\n",
       "      <td>2</td>\n",
       "      <td>0</td>\n",
       "      <td>0</td>\n",
       "      <td>0</td>\n",
       "      <td>1</td>\n",
       "      <td>1</td>\n",
       "      <td>1</td>\n",
       "    </tr>\n",
       "    <tr>\n",
       "      <th>1</th>\n",
       "      <td>47</td>\n",
       "      <td>2464</td>\n",
       "      <td>0</td>\n",
       "      <td>0</td>\n",
       "      <td>0</td>\n",
       "      <td>2</td>\n",
       "      <td>3</td>\n",
       "      <td>4</td>\n",
       "      <td>4</td>\n",
       "      <td>4</td>\n",
       "      <td>2</td>\n",
       "      <td>3</td>\n",
       "      <td>2</td>\n",
       "      <td>310</td>\n",
       "      <td>1</td>\n",
       "      <td>0</td>\n",
       "      <td>1</td>\n",
       "      <td>0</td>\n",
       "      <td>1</td>\n",
       "    </tr>\n",
       "    <tr>\n",
       "      <th>2</th>\n",
       "      <td>15</td>\n",
       "      <td>2138</td>\n",
       "      <td>0</td>\n",
       "      <td>0</td>\n",
       "      <td>2</td>\n",
       "      <td>0</td>\n",
       "      <td>2</td>\n",
       "      <td>3</td>\n",
       "      <td>3</td>\n",
       "      <td>4</td>\n",
       "      <td>4</td>\n",
       "      <td>4</td>\n",
       "      <td>2</td>\n",
       "      <td>0</td>\n",
       "      <td>0</td>\n",
       "      <td>0</td>\n",
       "      <td>1</td>\n",
       "      <td>1</td>\n",
       "      <td>1</td>\n",
       "    </tr>\n",
       "    <tr>\n",
       "      <th>3</th>\n",
       "      <td>60</td>\n",
       "      <td>623</td>\n",
       "      <td>0</td>\n",
       "      <td>0</td>\n",
       "      <td>3</td>\n",
       "      <td>4</td>\n",
       "      <td>1</td>\n",
       "      <td>1</td>\n",
       "      <td>0</td>\n",
       "      <td>1</td>\n",
       "      <td>4</td>\n",
       "      <td>1</td>\n",
       "      <td>3</td>\n",
       "      <td>0</td>\n",
       "      <td>0</td>\n",
       "      <td>0</td>\n",
       "      <td>1</td>\n",
       "      <td>1</td>\n",
       "      <td>1</td>\n",
       "    </tr>\n",
       "    <tr>\n",
       "      <th>4</th>\n",
       "      <td>70</td>\n",
       "      <td>354</td>\n",
       "      <td>0</td>\n",
       "      <td>0</td>\n",
       "      <td>4</td>\n",
       "      <td>3</td>\n",
       "      <td>2</td>\n",
       "      <td>2</td>\n",
       "      <td>0</td>\n",
       "      <td>2</td>\n",
       "      <td>4</td>\n",
       "      <td>2</td>\n",
       "      <td>5</td>\n",
       "      <td>0</td>\n",
       "      <td>0</td>\n",
       "      <td>0</td>\n",
       "      <td>1</td>\n",
       "      <td>1</td>\n",
       "      <td>1</td>\n",
       "    </tr>\n",
       "  </tbody>\n",
       "</table>\n",
       "</div>"
      ],
      "text/plain": [
       "   Age  Flight Distance  Seat comfort  Food and drink  Inflight wifi service  \\\n",
       "0   65              265             0               0                      2   \n",
       "1   47             2464             0               0                      0   \n",
       "2   15             2138             0               0                      2   \n",
       "3   60              623             0               0                      3   \n",
       "4   70              354             0               0                      4   \n",
       "\n",
       "   Inflight entertainment  Ease of Online booking  On-board service  \\\n",
       "0                       4                       3                 3   \n",
       "1                       2                       3                 4   \n",
       "2                       0                       2                 3   \n",
       "3                       4                       1                 1   \n",
       "4                       3                       2                 2   \n",
       "\n",
       "   Leg room service  Baggage handling  Checkin service  Cleanliness  \\\n",
       "0                 0                 3                5            3   \n",
       "1                 4                 4                2            3   \n",
       "2                 3                 4                4            4   \n",
       "3                 0                 1                4            1   \n",
       "4                 0                 2                4            2   \n",
       "\n",
       "   Online boarding  Departure Delay in Minutes  Gender  Customer Type  \\\n",
       "0                2                           0       0              0   \n",
       "1                2                         310       1              0   \n",
       "2                2                           0       0              0   \n",
       "3                3                           0       0              0   \n",
       "4                5                           0       0              0   \n",
       "\n",
       "   Type of Travel  Class  Satisfaction  \n",
       "0               1      1             1  \n",
       "1               1      0             1  \n",
       "2               1      1             1  \n",
       "3               1      1             1  \n",
       "4               1      1             1  "
      ]
     },
     "execution_count": 17,
     "metadata": {},
     "output_type": "execute_result"
    }
   ],
   "source": [
    "# concat df_categorical with original df\n",
    "df = df.drop(df_categorical.columns, axis=1)\n",
    "df = pd.concat([df, df_categorical], axis=1)\n",
    "df.head()"
   ]
  },
  {
   "cell_type": "code",
   "execution_count": 18,
   "id": "c864431e",
   "metadata": {},
   "outputs": [
    {
     "data": {
      "image/png": "[encoded data removed]",
      "text/plain": [
       "<Figure size 1440x1080 with 2 Axes>"
      ]
     },
     "metadata": {
      "needs_background": "light"
     },
     "output_type": "display_data"
    }
   ],
   "source": [
    "plt.figure(figsize = (20,15))\n",
    "sns.heatmap(df.corr(), annot=True);"
   ]
  },
  {
   "cell_type": "code",
   "execution_count": 19,
   "id": "1ad55752",
   "metadata": {},
   "outputs": [
    {
     "data": {
      "image/png": "[encoded data removed]",
      "text/plain": [
       "<Figure size 1440x720 with 3 Axes>"
      ]
     },
     "metadata": {
      "needs_background": "light"
     },
     "output_type": "display_data"
    }
   ],
   "source": [
    "plt.figure(figsize=[20,10])\n",
    "plt.suptitle('Subplots',fontsize = 16)\n",
    "\n",
    "plt.subplot(1,4,2)\n",
    "plt.boxplot(df['Departure Delay in Minutes']);\n",
    "\n",
    "plt.subplot(1,4,3)\n",
    "plt.boxplot(df['Age']);\n",
    "\n",
    "plt.subplot(1,4,4)\n",
    "plt.boxplot(df['Flight Distance']);"
   ]
  },
  {
   "cell_type": "code",
   "execution_count": 20,
   "id": "4f93c0ca",
   "metadata": {},
   "outputs": [
    {
     "data": {
      "image/png": "[encoded data removed]",
      "text/plain": [
       "<Figure size 432x288 with 1 Axes>"
      ]
     },
     "metadata": {
      "needs_background": "light"
     },
     "output_type": "display_data"
    }
   ],
   "source": [
    "sns.countplot(data=df, x=\"Satisfaction\");\n"
   ]
  },
  {
   "cell_type": "markdown",
   "id": "24735093",
   "metadata": {},
   "source": [
    "# Machine Learning"
   ]
  },
  {
   "cell_type": "code",
   "execution_count": 21,
   "id": "9a7a96da",
   "metadata": {},
   "outputs": [],
   "source": [
    "X = df.iloc[:,:-1]\n",
    "y = df['Satisfaction']"
   ]
  },
  {
   "cell_type": "code",
   "execution_count": 22,
   "id": "0b297c84",
   "metadata": {},
   "outputs": [
    {
     "data": {
      "text/html": [
       "<div>\n",
       "<style scoped>\n",
       "    .dataframe tbody tr th:only-of-type {\n",
       "        vertical-align: middle;\n",
       "    }\n",
       "\n",
       "    .dataframe tbody tr th {\n",
       "        vertical-align: top;\n",
       "    }\n",
       "\n",
       "    .dataframe thead th {\n",
       "        text-align: right;\n",
       "    }\n",
       "</style>\n",
       "<table border=\"1\" class=\"dataframe\">\n",
       "  <thead>\n",
       "    <tr style=\"text-align: right;\">\n",
       "      <th></th>\n",
       "      <th>Age</th>\n",
       "      <th>Flight Distance</th>\n",
       "      <th>Seat comfort</th>\n",
       "      <th>Food and drink</th>\n",
       "      <th>Inflight wifi service</th>\n",
       "      <th>Inflight entertainment</th>\n",
       "      <th>Ease of Online booking</th>\n",
       "      <th>On-board service</th>\n",
       "      <th>Leg room service</th>\n",
       "      <th>Baggage handling</th>\n",
       "      <th>Checkin service</th>\n",
       "      <th>Cleanliness</th>\n",
       "      <th>Online boarding</th>\n",
       "      <th>Departure Delay in Minutes</th>\n",
       "      <th>Gender</th>\n",
       "      <th>Customer Type</th>\n",
       "      <th>Type of Travel</th>\n",
       "      <th>Class</th>\n",
       "    </tr>\n",
       "  </thead>\n",
       "  <tbody>\n",
       "    <tr>\n",
       "      <th>0</th>\n",
       "      <td>65</td>\n",
       "      <td>265</td>\n",
       "      <td>0</td>\n",
       "      <td>0</td>\n",
       "      <td>2</td>\n",
       "      <td>4</td>\n",
       "      <td>3</td>\n",
       "      <td>3</td>\n",
       "      <td>0</td>\n",
       "      <td>3</td>\n",
       "      <td>5</td>\n",
       "      <td>3</td>\n",
       "      <td>2</td>\n",
       "      <td>0</td>\n",
       "      <td>0</td>\n",
       "      <td>0</td>\n",
       "      <td>1</td>\n",
       "      <td>1</td>\n",
       "    </tr>\n",
       "  </tbody>\n",
       "</table>\n",
       "</div>"
      ],
      "text/plain": [
       "   Age  Flight Distance  Seat comfort  Food and drink  Inflight wifi service  \\\n",
       "0   65              265             0               0                      2   \n",
       "\n",
       "   Inflight entertainment  Ease of Online booking  On-board service  \\\n",
       "0                       4                       3                 3   \n",
       "\n",
       "   Leg room service  Baggage handling  Checkin service  Cleanliness  \\\n",
       "0                 0                 3                5            3   \n",
       "\n",
       "   Online boarding  Departure Delay in Minutes  Gender  Customer Type  \\\n",
       "0                2                           0       0              0   \n",
       "\n",
       "   Type of Travel  Class  \n",
       "0               1      1  "
      ]
     },
     "execution_count": 22,
     "metadata": {},
     "output_type": "execute_result"
    }
   ],
   "source": [
    "X.head(1)"
   ]
  },
  {
   "cell_type": "code",
   "execution_count": 23,
   "id": "ae70ac23",
   "metadata": {},
   "outputs": [
    {
     "data": {
      "text/plain": [
       "0    1\n",
       "Name: Satisfaction, dtype: int32"
      ]
     },
     "execution_count": 23,
     "metadata": {},
     "output_type": "execute_result"
    }
   ],
   "source": [
    "y.head(1)"
   ]
  },
  {
   "cell_type": "markdown",
   "id": "f7eaebd0",
   "metadata": {},
   "source": [
    "# Grid Search"
   ]
  },
  {
   "cell_type": "markdown",
   "id": "8f09d5e6",
   "metadata": {},
   "source": [
    "## Train-Test Split"
   ]
  },
  {
   "cell_type": "code",
   "execution_count": 24,
   "id": "9f5a8adc",
   "metadata": {},
   "outputs": [],
   "source": [
    "X_train, X_test, y_train, y_test = train_test_split(X, y, test_size=0.3, random_state=100)"
   ]
  },
  {
   "cell_type": "code",
   "execution_count": 25,
   "id": "0695149a",
   "metadata": {},
   "outputs": [
    {
     "data": {
      "text/html": [
       "<div>\n",
       "<style scoped>\n",
       "    .dataframe tbody tr th:only-of-type {\n",
       "        vertical-align: middle;\n",
       "    }\n",
       "\n",
       "    .dataframe tbody tr th {\n",
       "        vertical-align: top;\n",
       "    }\n",
       "\n",
       "    .dataframe thead th {\n",
       "        text-align: right;\n",
       "    }\n",
       "</style>\n",
       "<table border=\"1\" class=\"dataframe\">\n",
       "  <thead>\n",
       "    <tr style=\"text-align: right;\">\n",
       "      <th></th>\n",
       "      <th>Model</th>\n",
       "      <th>Best_score</th>\n",
       "      <th>Best_params</th>\n",
       "      <th>Acuracy</th>\n",
       "      <th>Confusion_matrix</th>\n",
       "    </tr>\n",
       "  </thead>\n",
       "  <tbody>\n",
       "    <tr>\n",
       "      <th>0</th>\n",
       "      <td>K-Nearest Neighbors</td>\n",
       "      <td>0.729378</td>\n",
       "      <td>{'n_neighbors': 5}</td>\n",
       "      <td>0.734550</td>\n",
       "      <td>[[30143, 9567], [11119, 27099]]</td>\n",
       "    </tr>\n",
       "    <tr>\n",
       "      <th>1</th>\n",
       "      <td>Decision Tree</td>\n",
       "      <td>0.929797</td>\n",
       "      <td>{'criterion': 'entropy', 'min_samples_split': 30}</td>\n",
       "      <td>0.932810</td>\n",
       "      <td>[[37509, 2201], [3035, 35183]]</td>\n",
       "    </tr>\n",
       "    <tr>\n",
       "      <th>2</th>\n",
       "      <td>Naive Bayes</td>\n",
       "      <td>0.816569</td>\n",
       "      <td>{'var_smoothing': 1e-09}</td>\n",
       "      <td>0.814778</td>\n",
       "      <td>[[32878, 6832], [7602, 30616]]</td>\n",
       "    </tr>\n",
       "    <tr>\n",
       "      <th>3</th>\n",
       "      <td>Random Forest</td>\n",
       "      <td>0.948215</td>\n",
       "      <td>{'n_estimators': 100}</td>\n",
       "      <td>0.951173</td>\n",
       "      <td>[[38322, 1388], [2417, 35801]]</td>\n",
       "    </tr>\n",
       "    <tr>\n",
       "      <th>4</th>\n",
       "      <td>Logistic Regression</td>\n",
       "      <td>0.829582</td>\n",
       "      <td>{'C': 10, 'solver': 'newton-cg'}</td>\n",
       "      <td>0.826853</td>\n",
       "      <td>[[33538, 6172], [7321, 30897]]</td>\n",
       "    </tr>\n",
       "  </tbody>\n",
       "</table>\n",
       "</div>"
      ],
      "text/plain": [
       "                 Model  Best_score  \\\n",
       "0  K-Nearest Neighbors    0.729378   \n",
       "1        Decision Tree    0.929797   \n",
       "2          Naive Bayes    0.816569   \n",
       "3        Random Forest    0.948215   \n",
       "4  Logistic Regression    0.829582   \n",
       "\n",
       "                                         Best_params   Acuracy  \\\n",
       "0                                 {'n_neighbors': 5}  0.734550   \n",
       "1  {'criterion': 'entropy', 'min_samples_split': 30}  0.932810   \n",
       "2                           {'var_smoothing': 1e-09}  0.814778   \n",
       "3                              {'n_estimators': 100}  0.951173   \n",
       "4                   {'C': 10, 'solver': 'newton-cg'}  0.826853   \n",
       "\n",
       "                  Confusion_matrix  \n",
       "0  [[30143, 9567], [11119, 27099]]  \n",
       "1   [[37509, 2201], [3035, 35183]]  \n",
       "2   [[32878, 6832], [7602, 30616]]  \n",
       "3   [[38322, 1388], [2417, 35801]]  \n",
       "4   [[33538, 6172], [7321, 30897]]  "
      ]
     },
     "execution_count": 25,
     "metadata": {},
     "output_type": "execute_result"
    }
   ],
   "source": [
    "model_params = {    \n",
    "    'K-Nearest Neighbors': {\n",
    "        'model': KNeighborsClassifier(),\n",
    "        'params' : {\n",
    "            'n_neighbors': [5,10,20],\n",
    "        }  \n",
    "    },\n",
    "    'Decision Tree': {\n",
    "        'model': DecisionTreeClassifier(),\n",
    "        'params' : {\n",
    "            'min_samples_split': [10,20,30],\n",
    "            'criterion': [\"gini\", \"entropy\"]\n",
    "        }  \n",
    "    },\n",
    "    'Naive Bayes':{ \n",
    "        'model': GaussianNB(),\n",
    "        'params' : {\n",
    "            'var_smoothing': np.logspace(0,-9, num=100)\n",
    "        }  \n",
    "        \n",
    "    },\n",
    "    'Random Forest': {\n",
    "        'model': RandomForestClassifier(),\n",
    "        'params' : {\n",
    "            'n_estimators': [10,100, 150]\n",
    "        }\n",
    "    },\n",
    "    'Logistic Regression' : {\n",
    "        'model': LogisticRegression(),\n",
    "        'params': {\n",
    "            'C': [1,10,100],\n",
    "            'solver': ['newton-cg', 'liblinear']\n",
    "        }\n",
    "    }\n",
    "}\n",
    "\n",
    "scores = []\n",
    "\n",
    "for model_name, mp in model_params.items():\n",
    "    clf =  GridSearchCV(mp['model'], mp['params'], cv=5, return_train_score=False)\n",
    "    clf.fit(X_train, y_train)\n",
    "    predictions = clf.predict(X_test)\n",
    "    scores.append({\n",
    "        'Model': model_name,\n",
    "        'Best_score': clf.best_score_,\n",
    "        'Best_params': clf.best_params_,\n",
    "        'Acuracy': accuracy_score(y_test,predictions),\n",
    "        'Confusion_matrix': confusion_matrix(y_test,predictions)\n",
    "    })\n",
    "    \n",
    "df_train_test_split = pd.DataFrame(scores,columns=['Model','Best_score','Best_params', 'Acuracy','Confusion_matrix'])\n",
    "df_train_test_split"
   ]
  },
  {
   "cell_type": "code",
   "execution_count": 26,
   "id": "d93f1f96",
   "metadata": {},
   "outputs": [
    {
     "name": "stdout",
     "output_type": "stream",
     "text": [
      "              precision    recall  f1-score   support\n",
      "\n",
      "           0     0.8208    0.8446    0.8325     39710\n",
      "           1     0.8335    0.8084    0.8208     38218\n",
      "\n",
      "    accuracy                         0.8269     77928\n",
      "   macro avg     0.8272    0.8265    0.8267     77928\n",
      "weighted avg     0.8270    0.8269    0.8268     77928\n",
      "\n"
     ]
    }
   ],
   "source": [
    "classifier = LogisticRegression(C=10, solver='newton-cg')\n",
    "classifier.fit(X_train,y_train)\n",
    "predictions = classifier.predict(X_test)\n",
    "print(classification_report(y_test, predictions, digits=4))"
   ]
  },
  {
   "cell_type": "markdown",
   "id": "7ad5aab2",
   "metadata": {},
   "source": [
    "## Cross Validation"
   ]
  },
  {
   "cell_type": "code",
   "execution_count": 27,
   "id": "2ab4436b",
   "metadata": {},
   "outputs": [],
   "source": [
    "CV_scores = []"
   ]
  },
  {
   "cell_type": "markdown",
   "id": "4d3557c7",
   "metadata": {},
   "source": [
    "## K-Nearest Neighbors"
   ]
  },
  {
   "cell_type": "code",
   "execution_count": 28,
   "id": "37057a75",
   "metadata": {},
   "outputs": [
    {
     "name": "stdout",
     "output_type": "stream",
     "text": [
      "              precision    recall  f1-score   support\n",
      "\n",
      "           0     0.6907    0.7215    0.7057    132245\n",
      "           1     0.6971    0.6649    0.6806    127512\n",
      "\n",
      "    accuracy                         0.6937    259757\n",
      "   macro avg     0.6939    0.6932    0.6932    259757\n",
      "weighted avg     0.6938    0.6937    0.6934    259757\n",
      "\n"
     ]
    }
   ],
   "source": [
    "classifier = KNeighborsClassifier(n_neighbors=5)\n",
    "predictions = cross_val_predict(classifier, X, y, cv = 5)\n",
    "CV_scores.append({\n",
    "        'Model': 'K-Nearest Neighbors',\n",
    "        'Acuracy': accuracy_score(y,predictions),\n",
    "        'Confusion_matrix': confusion_matrix(y,predictions)\n",
    "    })\n",
    "print(classification_report(y, predictions, digits=4))"
   ]
  },
  {
   "cell_type": "markdown",
   "id": "de64075f",
   "metadata": {},
   "source": [
    "## Decision Tree"
   ]
  },
  {
   "cell_type": "code",
   "execution_count": 29,
   "id": "9fa4c006",
   "metadata": {},
   "outputs": [
    {
     "name": "stdout",
     "output_type": "stream",
     "text": [
      "              precision    recall  f1-score   support\n",
      "\n",
      "           0     0.7328    0.6994    0.7157    132245\n",
      "           1     0.7023    0.7355    0.7185    127512\n",
      "\n",
      "    accuracy                         0.7171    259757\n",
      "   macro avg     0.7176    0.7175    0.7171    259757\n",
      "weighted avg     0.7178    0.7171    0.7171    259757\n",
      "\n"
     ]
    }
   ],
   "source": [
    "classifier = DecisionTreeClassifier(criterion= 'entropy', min_samples_split= 30)\n",
    "predictions = cross_val_predict(classifier, X, y, cv = 5)\n",
    "CV_scores.append({\n",
    "        'Model': 'Decision Tree',\n",
    "        'Acuracy': accuracy_score(y,predictions),\n",
    "        'Confusion_matrix': confusion_matrix(y,predictions)\n",
    "    })\n",
    "print(classification_report(y, predictions, digits=4))"
   ]
  },
  {
   "cell_type": "markdown",
   "id": "f8351b6c",
   "metadata": {},
   "source": [
    "## Naive Bayes"
   ]
  },
  {
   "cell_type": "code",
   "execution_count": 30,
   "id": "b30e5768",
   "metadata": {},
   "outputs": [
    {
     "name": "stdout",
     "output_type": "stream",
     "text": [
      "              precision    recall  f1-score   support\n",
      "\n",
      "           0     0.7310    0.8244    0.7749    132245\n",
      "           1     0.7901    0.6854    0.7340    127512\n",
      "\n",
      "    accuracy                         0.7562    259757\n",
      "   macro avg     0.7606    0.7549    0.7545    259757\n",
      "weighted avg     0.7600    0.7562    0.7549    259757\n",
      "\n"
     ]
    }
   ],
   "source": [
    "classifier = GaussianNB(var_smoothing = 1e-09)\n",
    "predictions = cross_val_predict(classifier, X, y, cv = 5)\n",
    "CV_scores.append({\n",
    "        'Model': 'Naive Bayes',\n",
    "        'Acuracy': accuracy_score(y,predictions),\n",
    "        'Confusion_matrix': confusion_matrix(y,predictions)\n",
    "    })\n",
    "print(classification_report(y, predictions, digits=4))"
   ]
  },
  {
   "cell_type": "markdown",
   "id": "14280281",
   "metadata": {},
   "source": [
    "## Random Forest"
   ]
  },
  {
   "cell_type": "code",
   "execution_count": 31,
   "id": "88bc9e03",
   "metadata": {},
   "outputs": [
    {
     "name": "stdout",
     "output_type": "stream",
     "text": [
      "              precision    recall  f1-score   support\n",
      "\n",
      "           0     0.7490    0.7268    0.7377    132245\n",
      "           1     0.7251    0.7474    0.7361    127512\n",
      "\n",
      "    accuracy                         0.7369    259757\n",
      "   macro avg     0.7371    0.7371    0.7369    259757\n",
      "weighted avg     0.7373    0.7369    0.7369    259757\n",
      "\n"
     ]
    }
   ],
   "source": [
    "classifier = RandomForestClassifier(n_estimators =150)\n",
    "predictions = cross_val_predict(classifier, X, y, cv = 5)\n",
    "CV_scores.append({\n",
    "        'Model': 'Random Forest',\n",
    "        'Acuracy': accuracy_score(y,predictions),\n",
    "        'Confusion_matrix': confusion_matrix(y,predictions)\n",
    "    })\n",
    "print(classification_report(y, predictions, digits=4))"
   ]
  },
  {
   "cell_type": "markdown",
   "id": "601ceb75",
   "metadata": {},
   "source": [
    "## Logistic Regression"
   ]
  },
  {
   "cell_type": "code",
   "execution_count": 32,
   "id": "cd0bcaa4",
   "metadata": {},
   "outputs": [
    {
     "name": "stdout",
     "output_type": "stream",
     "text": [
      "              precision    recall  f1-score   support\n",
      "\n",
      "           0     0.7495    0.7881    0.7683    132245\n",
      "           1     0.7678    0.7269    0.7468    127512\n",
      "\n",
      "    accuracy                         0.7580    259757\n",
      "   macro avg     0.7587    0.7575    0.7576    259757\n",
      "weighted avg     0.7585    0.7580    0.7578    259757\n",
      "\n"
     ]
    }
   ],
   "source": [
    "classifier = LogisticRegression(C=10, solver='newton-cg')\n",
    "predictions = cross_val_predict(classifier, X, y, cv = 5)\n",
    "CV_scores.append({\n",
    "        'Model': 'Logistic Regression',\n",
    "        'Acuracy': accuracy_score(y,predictions),\n",
    "        'Confusion_matrix': confusion_matrix(y,predictions)\n",
    "    })\n",
    "print(classification_report(y, predictions, digits=4))"
   ]
  },
  {
   "cell_type": "markdown",
   "id": "0fc47352",
   "metadata": {},
   "source": [
    "# Comparing Accuracy Scores"
   ]
  },
  {
   "cell_type": "code",
   "execution_count": 33,
   "id": "1f039f5a",
   "metadata": {},
   "outputs": [
    {
     "data": {
      "text/html": [
       "<div>\n",
       "<style scoped>\n",
       "    .dataframe tbody tr th:only-of-type {\n",
       "        vertical-align: middle;\n",
       "    }\n",
       "\n",
       "    .dataframe tbody tr th {\n",
       "        vertical-align: top;\n",
       "    }\n",
       "\n",
       "    .dataframe thead th {\n",
       "        text-align: right;\n",
       "    }\n",
       "</style>\n",
       "<table border=\"1\" class=\"dataframe\">\n",
       "  <thead>\n",
       "    <tr style=\"text-align: right;\">\n",
       "      <th></th>\n",
       "      <th>Model</th>\n",
       "      <th>Acuracy</th>\n",
       "      <th>Confusion_matrix</th>\n",
       "    </tr>\n",
       "  </thead>\n",
       "  <tbody>\n",
       "    <tr>\n",
       "      <th>0</th>\n",
       "      <td>K-Nearest Neighbors</td>\n",
       "      <td>0.693702</td>\n",
       "      <td>[[95413, 36832], [42731, 84781]]</td>\n",
       "    </tr>\n",
       "    <tr>\n",
       "      <th>1</th>\n",
       "      <td>Decision Tree</td>\n",
       "      <td>0.717132</td>\n",
       "      <td>[[92498, 39747], [33730, 93782]]</td>\n",
       "    </tr>\n",
       "    <tr>\n",
       "      <th>2</th>\n",
       "      <td>Naive Bayes</td>\n",
       "      <td>0.756188</td>\n",
       "      <td>[[109027, 23218], [40114, 87398]]</td>\n",
       "    </tr>\n",
       "    <tr>\n",
       "      <th>3</th>\n",
       "      <td>Random Forest</td>\n",
       "      <td>0.736931</td>\n",
       "      <td>[[96117, 36128], [32206, 95306]]</td>\n",
       "    </tr>\n",
       "    <tr>\n",
       "      <th>4</th>\n",
       "      <td>Logistic Regression</td>\n",
       "      <td>0.758043</td>\n",
       "      <td>[[104218, 28027], [34823, 92689]]</td>\n",
       "    </tr>\n",
       "  </tbody>\n",
       "</table>\n",
       "</div>"
      ],
      "text/plain": [
       "                 Model   Acuracy                   Confusion_matrix\n",
       "0  K-Nearest Neighbors  0.693702   [[95413, 36832], [42731, 84781]]\n",
       "1        Decision Tree  0.717132   [[92498, 39747], [33730, 93782]]\n",
       "2          Naive Bayes  0.756188  [[109027, 23218], [40114, 87398]]\n",
       "3        Random Forest  0.736931   [[96117, 36128], [32206, 95306]]\n",
       "4  Logistic Regression  0.758043  [[104218, 28027], [34823, 92689]]"
      ]
     },
     "execution_count": 33,
     "metadata": {},
     "output_type": "execute_result"
    }
   ],
   "source": [
    "df_CV = pd.DataFrame(CV_scores,columns=['Model','Acuracy','Confusion_matrix'])\n",
    "df_CV"
   ]
  },
  {
   "cell_type": "code",
   "execution_count": 34,
   "id": "526701d1",
   "metadata": {},
   "outputs": [
    {
     "data": {
      "text/html": [
       "<div>\n",
       "<style scoped>\n",
       "    .dataframe tbody tr th:only-of-type {\n",
       "        vertical-align: middle;\n",
       "    }\n",
       "\n",
       "    .dataframe tbody tr th {\n",
       "        vertical-align: top;\n",
       "    }\n",
       "\n",
       "    .dataframe thead th {\n",
       "        text-align: right;\n",
       "    }\n",
       "</style>\n",
       "<table border=\"1\" class=\"dataframe\">\n",
       "  <thead>\n",
       "    <tr style=\"text-align: right;\">\n",
       "      <th></th>\n",
       "      <th>Model</th>\n",
       "      <th>Acuracy</th>\n",
       "      <th>Confusion_matrix</th>\n",
       "    </tr>\n",
       "  </thead>\n",
       "  <tbody>\n",
       "    <tr>\n",
       "      <th>0</th>\n",
       "      <td>K-Nearest Neighbors</td>\n",
       "      <td>0.734550</td>\n",
       "      <td>[[30143, 9567], [11119, 27099]]</td>\n",
       "    </tr>\n",
       "    <tr>\n",
       "      <th>1</th>\n",
       "      <td>Decision Tree</td>\n",
       "      <td>0.932810</td>\n",
       "      <td>[[37509, 2201], [3035, 35183]]</td>\n",
       "    </tr>\n",
       "    <tr>\n",
       "      <th>2</th>\n",
       "      <td>Naive Bayes</td>\n",
       "      <td>0.814778</td>\n",
       "      <td>[[32878, 6832], [7602, 30616]]</td>\n",
       "    </tr>\n",
       "    <tr>\n",
       "      <th>3</th>\n",
       "      <td>Random Forest</td>\n",
       "      <td>0.951173</td>\n",
       "      <td>[[38322, 1388], [2417, 35801]]</td>\n",
       "    </tr>\n",
       "    <tr>\n",
       "      <th>4</th>\n",
       "      <td>Logistic Regression</td>\n",
       "      <td>0.826853</td>\n",
       "      <td>[[33538, 6172], [7321, 30897]]</td>\n",
       "    </tr>\n",
       "  </tbody>\n",
       "</table>\n",
       "</div>"
      ],
      "text/plain": [
       "                 Model   Acuracy                 Confusion_matrix\n",
       "0  K-Nearest Neighbors  0.734550  [[30143, 9567], [11119, 27099]]\n",
       "1        Decision Tree  0.932810   [[37509, 2201], [3035, 35183]]\n",
       "2          Naive Bayes  0.814778   [[32878, 6832], [7602, 30616]]\n",
       "3        Random Forest  0.951173   [[38322, 1388], [2417, 35801]]\n",
       "4  Logistic Regression  0.826853   [[33538, 6172], [7321, 30897]]"
      ]
     },
     "execution_count": 34,
     "metadata": {},
     "output_type": "execute_result"
    }
   ],
   "source": [
    "df_TTS = df_train_test_split.iloc[:,[0,3,4]]\n",
    "df_TTS"
   ]
  },
  {
   "cell_type": "code",
   "execution_count": 35,
   "id": "ccd56fec",
   "metadata": {},
   "outputs": [
    {
     "data": {
      "image/png": "[encoded data removed]",
      "text/plain": [
       "<Figure size 432x288 with 1 Axes>"
      ]
     },
     "metadata": {
      "needs_background": "light"
     },
     "output_type": "display_data"
    }
   ],
   "source": [
    "sns.lineplot(data=df_CV, x='Model', y='Acuracy', color=\"red\", linewidth = 3)\n",
    "sns.lineplot(data=df_TTS, x='Model', y='Acuracy', linewidth = 3);"
   ]
  },
  {
   "cell_type": "code",
   "execution_count": 36,
   "id": "305848aa",
   "metadata": {},
   "outputs": [
    {
     "data": {
      "text/html": [
       "<div>\n",
       "<style scoped>\n",
       "    .dataframe tbody tr th:only-of-type {\n",
       "        vertical-align: middle;\n",
       "    }\n",
       "\n",
       "    .dataframe tbody tr th {\n",
       "        vertical-align: top;\n",
       "    }\n",
       "\n",
       "    .dataframe thead th {\n",
       "        text-align: right;\n",
       "    }\n",
       "</style>\n",
       "<table border=\"1\" class=\"dataframe\">\n",
       "  <thead>\n",
       "    <tr style=\"text-align: right;\">\n",
       "      <th>Model</th>\n",
       "      <th>K-Nearest Neighbors</th>\n",
       "      <th>Decision Tree</th>\n",
       "      <th>Naive Bayes</th>\n",
       "      <th>Random Forest</th>\n",
       "      <th>Logistic Regression</th>\n",
       "    </tr>\n",
       "  </thead>\n",
       "  <tbody>\n",
       "    <tr>\n",
       "      <th>train_test_split</th>\n",
       "      <td>0.734550</td>\n",
       "      <td>0.932810</td>\n",
       "      <td>0.814778</td>\n",
       "      <td>0.951173</td>\n",
       "      <td>0.826853</td>\n",
       "    </tr>\n",
       "    <tr>\n",
       "      <th>cross_val</th>\n",
       "      <td>0.693702</td>\n",
       "      <td>0.717132</td>\n",
       "      <td>0.756188</td>\n",
       "      <td>0.736931</td>\n",
       "      <td>0.758043</td>\n",
       "    </tr>\n",
       "  </tbody>\n",
       "</table>\n",
       "</div>"
      ],
      "text/plain": [
       "Model             K-Nearest Neighbors  Decision Tree  Naive Bayes  \\\n",
       "train_test_split             0.734550       0.932810     0.814778   \n",
       "cross_val                    0.693702       0.717132     0.756188   \n",
       "\n",
       "Model             Random Forest  Logistic Regression  \n",
       "train_test_split       0.951173             0.826853  \n",
       "cross_val              0.736931             0.758043  "
      ]
     },
     "execution_count": 36,
     "metadata": {},
     "output_type": "execute_result"
    }
   ],
   "source": [
    "data = {'Model': df_CV['Model'],\n",
    "        'train_test_split': df_TTS['Acuracy'],\n",
    "        'cross_val': df_CV['Acuracy']\n",
    "       }\n",
    "Line_Chart = pd.DataFrame(data).set_index('Model').T\n",
    "Line_Chart"
   ]
  },
  {
   "cell_type": "code",
   "execution_count": 37,
   "id": "7a77a25a",
   "metadata": {},
   "outputs": [
    {
     "data": {
      "image/png": "[encoded data removed]",
      "text/plain": [
       "<Figure size 720x504 with 1 Axes>"
      ]
     },
     "metadata": {
      "needs_background": "light"
     },
     "output_type": "display_data"
    }
   ],
   "source": [
    "plt.figure(figsize = (10,7))\n",
    "sns.lineplot(data=Line_Chart, markers=True, dashes=False, linewidth = 3);"
   ]
  },
  {
   "cell_type": "code",
   "execution_count": 38,
   "id": "522959e1",
   "metadata": {},
   "outputs": [
    {
     "name": "stdout",
     "output_type": "stream",
     "text": [
      "              precision    recall  f1-score   support\n",
      "\n",
      "           0     0.8208    0.8446    0.8325     39710\n",
      "           1     0.8335    0.8084    0.8208     38218\n",
      "\n",
      "    accuracy                         0.8269     77928\n",
      "   macro avg     0.8272    0.8265    0.8267     77928\n",
      "weighted avg     0.8270    0.8269    0.8268     77928\n",
      "\n"
     ]
    }
   ],
   "source": [
    "# LogisticRegression without Normalization\n",
    "classifier = LogisticRegression(C=10, solver='newton-cg')\n",
    "classifier.fit(X_train,y_train)\n",
    "predictions = classifier.predict(X_test)\n",
    "print(classification_report(y_test, predictions, digits=4))"
   ]
  },
  {
   "cell_type": "markdown",
   "id": "b722b3f6",
   "metadata": {},
   "source": [
    "# With Normalization"
   ]
  },
  {
   "cell_type": "code",
   "execution_count": 39,
   "id": "23ed991f",
   "metadata": {},
   "outputs": [
    {
     "name": "stdout",
     "output_type": "stream",
     "text": [
      "              precision    recall  f1-score   support\n",
      "\n",
      "           0     0.8207    0.8445    0.8325     39710\n",
      "           1     0.8335    0.8083    0.8207     38218\n",
      "\n",
      "    accuracy                         0.8268     77928\n",
      "   macro avg     0.8271    0.8264    0.8266     77928\n",
      "weighted avg     0.8270    0.8268    0.8267     77928\n",
      "\n"
     ]
    }
   ],
   "source": [
    "from sklearn.preprocessing import MinMaxScaler\n",
    "\n",
    "scaler = MinMaxScaler()\n",
    "X_train1 = scaler.fit_transform(X_train)\n",
    "X_test1 = scaler.transform(X_test)\n",
    "\n",
    "classifier = LogisticRegression(C=10, solver='newton-cg')\n",
    "classifier.fit(X_train1,y_train)\n",
    "predictions = classifier.predict(X_test1)\n",
    "print(classification_report(y_test, predictions, digits=4))\n"
   ]
  },
  {
   "cell_type": "code",
   "execution_count": 40,
   "id": "6bfae79e",
   "metadata": {
    "scrolled": true
   },
   "outputs": [
    {
     "data": {
      "text/html": [
       "<div>\n",
       "<style scoped>\n",
       "    .dataframe tbody tr th:only-of-type {\n",
       "        vertical-align: middle;\n",
       "    }\n",
       "\n",
       "    .dataframe tbody tr th {\n",
       "        vertical-align: top;\n",
       "    }\n",
       "\n",
       "    .dataframe thead th {\n",
       "        text-align: right;\n",
       "    }\n",
       "</style>\n",
       "<table border=\"1\" class=\"dataframe\">\n",
       "  <thead>\n",
       "    <tr style=\"text-align: right;\">\n",
       "      <th></th>\n",
       "      <th>Age</th>\n",
       "      <th>Flight Distance</th>\n",
       "      <th>Seat comfort</th>\n",
       "      <th>Food and drink</th>\n",
       "      <th>Inflight wifi service</th>\n",
       "      <th>Inflight entertainment</th>\n",
       "      <th>Ease of Online booking</th>\n",
       "      <th>On-board service</th>\n",
       "      <th>Leg room service</th>\n",
       "      <th>Baggage handling</th>\n",
       "      <th>Checkin service</th>\n",
       "      <th>Cleanliness</th>\n",
       "      <th>Online boarding</th>\n",
       "      <th>Departure Delay in Minutes</th>\n",
       "      <th>Gender</th>\n",
       "      <th>Customer Type</th>\n",
       "      <th>Type of Travel</th>\n",
       "      <th>Class</th>\n",
       "    </tr>\n",
       "  </thead>\n",
       "  <tbody>\n",
       "    <tr>\n",
       "      <th>0</th>\n",
       "      <td>65</td>\n",
       "      <td>265</td>\n",
       "      <td>0</td>\n",
       "      <td>0</td>\n",
       "      <td>2</td>\n",
       "      <td>4</td>\n",
       "      <td>3</td>\n",
       "      <td>3</td>\n",
       "      <td>0</td>\n",
       "      <td>3</td>\n",
       "      <td>5</td>\n",
       "      <td>3</td>\n",
       "      <td>2</td>\n",
       "      <td>0</td>\n",
       "      <td>0</td>\n",
       "      <td>0</td>\n",
       "      <td>1</td>\n",
       "      <td>1</td>\n",
       "    </tr>\n",
       "    <tr>\n",
       "      <th>1</th>\n",
       "      <td>47</td>\n",
       "      <td>2464</td>\n",
       "      <td>0</td>\n",
       "      <td>0</td>\n",
       "      <td>0</td>\n",
       "      <td>2</td>\n",
       "      <td>3</td>\n",
       "      <td>4</td>\n",
       "      <td>4</td>\n",
       "      <td>4</td>\n",
       "      <td>2</td>\n",
       "      <td>3</td>\n",
       "      <td>2</td>\n",
       "      <td>310</td>\n",
       "      <td>1</td>\n",
       "      <td>0</td>\n",
       "      <td>1</td>\n",
       "      <td>0</td>\n",
       "    </tr>\n",
       "    <tr>\n",
       "      <th>2</th>\n",
       "      <td>15</td>\n",
       "      <td>2138</td>\n",
       "      <td>0</td>\n",
       "      <td>0</td>\n",
       "      <td>2</td>\n",
       "      <td>0</td>\n",
       "      <td>2</td>\n",
       "      <td>3</td>\n",
       "      <td>3</td>\n",
       "      <td>4</td>\n",
       "      <td>4</td>\n",
       "      <td>4</td>\n",
       "      <td>2</td>\n",
       "      <td>0</td>\n",
       "      <td>0</td>\n",
       "      <td>0</td>\n",
       "      <td>1</td>\n",
       "      <td>1</td>\n",
       "    </tr>\n",
       "    <tr>\n",
       "      <th>3</th>\n",
       "      <td>60</td>\n",
       "      <td>623</td>\n",
       "      <td>0</td>\n",
       "      <td>0</td>\n",
       "      <td>3</td>\n",
       "      <td>4</td>\n",
       "      <td>1</td>\n",
       "      <td>1</td>\n",
       "      <td>0</td>\n",
       "      <td>1</td>\n",
       "      <td>4</td>\n",
       "      <td>1</td>\n",
       "      <td>3</td>\n",
       "      <td>0</td>\n",
       "      <td>0</td>\n",
       "      <td>0</td>\n",
       "      <td>1</td>\n",
       "      <td>1</td>\n",
       "    </tr>\n",
       "    <tr>\n",
       "      <th>4</th>\n",
       "      <td>70</td>\n",
       "      <td>354</td>\n",
       "      <td>0</td>\n",
       "      <td>0</td>\n",
       "      <td>4</td>\n",
       "      <td>3</td>\n",
       "      <td>2</td>\n",
       "      <td>2</td>\n",
       "      <td>0</td>\n",
       "      <td>2</td>\n",
       "      <td>4</td>\n",
       "      <td>2</td>\n",
       "      <td>5</td>\n",
       "      <td>0</td>\n",
       "      <td>0</td>\n",
       "      <td>0</td>\n",
       "      <td>1</td>\n",
       "      <td>1</td>\n",
       "    </tr>\n",
       "  </tbody>\n",
       "</table>\n",
       "</div>"
      ],
      "text/plain": [
       "   Age  Flight Distance  Seat comfort  Food and drink  Inflight wifi service  \\\n",
       "0   65              265             0               0                      2   \n",
       "1   47             2464             0               0                      0   \n",
       "2   15             2138             0               0                      2   \n",
       "3   60              623             0               0                      3   \n",
       "4   70              354             0               0                      4   \n",
       "\n",
       "   Inflight entertainment  Ease of Online booking  On-board service  \\\n",
       "0                       4                       3                 3   \n",
       "1                       2                       3                 4   \n",
       "2                       0                       2                 3   \n",
       "3                       4                       1                 1   \n",
       "4                       3                       2                 2   \n",
       "\n",
       "   Leg room service  Baggage handling  Checkin service  Cleanliness  \\\n",
       "0                 0                 3                5            3   \n",
       "1                 4                 4                2            3   \n",
       "2                 3                 4                4            4   \n",
       "3                 0                 1                4            1   \n",
       "4                 0                 2                4            2   \n",
       "\n",
       "   Online boarding  Departure Delay in Minutes  Gender  Customer Type  \\\n",
       "0                2                           0       0              0   \n",
       "1                2                         310       1              0   \n",
       "2                2                           0       0              0   \n",
       "3                3                           0       0              0   \n",
       "4                5                           0       0              0   \n",
       "\n",
       "   Type of Travel  Class  \n",
       "0               1      1  \n",
       "1               1      0  \n",
       "2               1      1  \n",
       "3               1      1  \n",
       "4               1      1  "
      ]
     },
     "execution_count": 40,
     "metadata": {},
     "output_type": "execute_result"
    }
   ],
   "source": [
    "X.head()"
   ]
  },
  {
   "cell_type": "code",
   "execution_count": 41,
   "id": "8c239346",
   "metadata": {
    "scrolled": true
   },
   "outputs": [
    {
     "data": {
      "text/html": [
       "<div>\n",
       "<style scoped>\n",
       "    .dataframe tbody tr th:only-of-type {\n",
       "        vertical-align: middle;\n",
       "    }\n",
       "\n",
       "    .dataframe tbody tr th {\n",
       "        vertical-align: top;\n",
       "    }\n",
       "\n",
       "    .dataframe thead th {\n",
       "        text-align: right;\n",
       "    }\n",
       "</style>\n",
       "<table border=\"1\" class=\"dataframe\">\n",
       "  <thead>\n",
       "    <tr style=\"text-align: right;\">\n",
       "      <th></th>\n",
       "      <th>Age</th>\n",
       "      <th>Flight Distance</th>\n",
       "      <th>Seat comfort</th>\n",
       "      <th>Food and drink</th>\n",
       "      <th>Inflight wifi service</th>\n",
       "      <th>Inflight entertainment</th>\n",
       "      <th>Ease of Online booking</th>\n",
       "      <th>On-board service</th>\n",
       "      <th>Leg room service</th>\n",
       "      <th>Baggage handling</th>\n",
       "      <th>Checkin service</th>\n",
       "      <th>Cleanliness</th>\n",
       "      <th>Online boarding</th>\n",
       "      <th>Departure Delay in Minutes</th>\n",
       "      <th>Gender</th>\n",
       "      <th>Customer Type</th>\n",
       "      <th>Type of Travel</th>\n",
       "      <th>Class</th>\n",
       "    </tr>\n",
       "  </thead>\n",
       "  <tbody>\n",
       "    <tr>\n",
       "      <th>0</th>\n",
       "      <td>0.743590</td>\n",
       "      <td>0.033815</td>\n",
       "      <td>0.0</td>\n",
       "      <td>0.0</td>\n",
       "      <td>0.4</td>\n",
       "      <td>0.8</td>\n",
       "      <td>0.6</td>\n",
       "      <td>0.6</td>\n",
       "      <td>0.0</td>\n",
       "      <td>0.50</td>\n",
       "      <td>1.0</td>\n",
       "      <td>0.6</td>\n",
       "      <td>0.4</td>\n",
       "      <td>0.000000</td>\n",
       "      <td>0.0</td>\n",
       "      <td>0.0</td>\n",
       "      <td>1.0</td>\n",
       "      <td>0.5</td>\n",
       "    </tr>\n",
       "    <tr>\n",
       "      <th>1</th>\n",
       "      <td>0.512821</td>\n",
       "      <td>0.351590</td>\n",
       "      <td>0.0</td>\n",
       "      <td>0.0</td>\n",
       "      <td>0.0</td>\n",
       "      <td>0.4</td>\n",
       "      <td>0.6</td>\n",
       "      <td>0.8</td>\n",
       "      <td>0.8</td>\n",
       "      <td>0.75</td>\n",
       "      <td>0.4</td>\n",
       "      <td>0.6</td>\n",
       "      <td>0.4</td>\n",
       "      <td>0.194724</td>\n",
       "      <td>1.0</td>\n",
       "      <td>0.0</td>\n",
       "      <td>1.0</td>\n",
       "      <td>0.0</td>\n",
       "    </tr>\n",
       "    <tr>\n",
       "      <th>2</th>\n",
       "      <td>0.102564</td>\n",
       "      <td>0.304480</td>\n",
       "      <td>0.0</td>\n",
       "      <td>0.0</td>\n",
       "      <td>0.4</td>\n",
       "      <td>0.0</td>\n",
       "      <td>0.4</td>\n",
       "      <td>0.6</td>\n",
       "      <td>0.6</td>\n",
       "      <td>0.75</td>\n",
       "      <td>0.8</td>\n",
       "      <td>0.8</td>\n",
       "      <td>0.4</td>\n",
       "      <td>0.000000</td>\n",
       "      <td>0.0</td>\n",
       "      <td>0.0</td>\n",
       "      <td>1.0</td>\n",
       "      <td>0.5</td>\n",
       "    </tr>\n",
       "    <tr>\n",
       "      <th>3</th>\n",
       "      <td>0.679487</td>\n",
       "      <td>0.085549</td>\n",
       "      <td>0.0</td>\n",
       "      <td>0.0</td>\n",
       "      <td>0.6</td>\n",
       "      <td>0.8</td>\n",
       "      <td>0.2</td>\n",
       "      <td>0.2</td>\n",
       "      <td>0.0</td>\n",
       "      <td>0.00</td>\n",
       "      <td>0.8</td>\n",
       "      <td>0.2</td>\n",
       "      <td>0.6</td>\n",
       "      <td>0.000000</td>\n",
       "      <td>0.0</td>\n",
       "      <td>0.0</td>\n",
       "      <td>1.0</td>\n",
       "      <td>0.5</td>\n",
       "    </tr>\n",
       "    <tr>\n",
       "      <th>4</th>\n",
       "      <td>0.807692</td>\n",
       "      <td>0.046676</td>\n",
       "      <td>0.0</td>\n",
       "      <td>0.0</td>\n",
       "      <td>0.8</td>\n",
       "      <td>0.6</td>\n",
       "      <td>0.4</td>\n",
       "      <td>0.4</td>\n",
       "      <td>0.0</td>\n",
       "      <td>0.25</td>\n",
       "      <td>0.8</td>\n",
       "      <td>0.4</td>\n",
       "      <td>1.0</td>\n",
       "      <td>0.000000</td>\n",
       "      <td>0.0</td>\n",
       "      <td>0.0</td>\n",
       "      <td>1.0</td>\n",
       "      <td>0.5</td>\n",
       "    </tr>\n",
       "  </tbody>\n",
       "</table>\n",
       "</div>"
      ],
      "text/plain": [
       "        Age  Flight Distance  Seat comfort  Food and drink  \\\n",
       "0  0.743590         0.033815           0.0             0.0   \n",
       "1  0.512821         0.351590           0.0             0.0   \n",
       "2  0.102564         0.304480           0.0             0.0   \n",
       "3  0.679487         0.085549           0.0             0.0   \n",
       "4  0.807692         0.046676           0.0             0.0   \n",
       "\n",
       "   Inflight wifi service  Inflight entertainment  Ease of Online booking  \\\n",
       "0                    0.4                     0.8                     0.6   \n",
       "1                    0.0                     0.4                     0.6   \n",
       "2                    0.4                     0.0                     0.4   \n",
       "3                    0.6                     0.8                     0.2   \n",
       "4                    0.8                     0.6                     0.4   \n",
       "\n",
       "   On-board service  Leg room service  Baggage handling  Checkin service  \\\n",
       "0               0.6               0.0              0.50              1.0   \n",
       "1               0.8               0.8              0.75              0.4   \n",
       "2               0.6               0.6              0.75              0.8   \n",
       "3               0.2               0.0              0.00              0.8   \n",
       "4               0.4               0.0              0.25              0.8   \n",
       "\n",
       "   Cleanliness  Online boarding  Departure Delay in Minutes  Gender  \\\n",
       "0          0.6              0.4                    0.000000     0.0   \n",
       "1          0.6              0.4                    0.194724     1.0   \n",
       "2          0.8              0.4                    0.000000     0.0   \n",
       "3          0.2              0.6                    0.000000     0.0   \n",
       "4          0.4              1.0                    0.000000     0.0   \n",
       "\n",
       "   Customer Type  Type of Travel  Class  \n",
       "0            0.0             1.0    0.5  \n",
       "1            0.0             1.0    0.0  \n",
       "2            0.0             1.0    0.5  \n",
       "3            0.0             1.0    0.5  \n",
       "4            0.0             1.0    0.5  "
      ]
     },
     "execution_count": 41,
     "metadata": {},
     "output_type": "execute_result"
    }
   ],
   "source": [
    "from sklearn.preprocessing import MinMaxScaler\n",
    "\n",
    "X_copy = X.copy()\n",
    "scaler = MinMaxScaler()\n",
    "X_columns = X.columns\n",
    "X_scaled = pd.DataFrame(scaler.fit_transform(X_copy), columns=X_columns)\n",
    "X_scaled.head()"
   ]
  },
  {
   "cell_type": "markdown",
   "id": "664be64f",
   "metadata": {},
   "source": [
    "## Train/test split with normalized data"
   ]
  },
  {
   "cell_type": "code",
   "execution_count": 42,
   "id": "dd91b6f1",
   "metadata": {},
   "outputs": [],
   "source": [
    "Xscaled_train, Xscaled_test, yscaled_train, yscaled_test = train_test_split(X_scaled, y, test_size=0.3, random_state=100)\n"
   ]
  },
  {
   "cell_type": "code",
   "execution_count": 43,
   "id": "9bee7e49",
   "metadata": {},
   "outputs": [
    {
     "name": "stdout",
     "output_type": "stream",
     "text": [
      "              precision    recall  f1-score   support\n",
      "\n",
      "           0     0.8208    0.8445    0.8325     39710\n",
      "           1     0.8335    0.8084    0.8207     38218\n",
      "\n",
      "    accuracy                         0.8268     77928\n",
      "   macro avg     0.8271    0.8265    0.8266     77928\n",
      "weighted avg     0.8270    0.8268    0.8267     77928\n",
      "\n"
     ]
    }
   ],
   "source": [
    "classifier = LogisticRegression(C=10, solver='newton-cg')\n",
    "classifier.fit(Xscaled_train,yscaled_train)\n",
    "predictions = classifier.predict(Xscaled_test)\n",
    "print(classification_report(yscaled_test, predictions, digits=4))"
   ]
  },
  {
   "cell_type": "code",
   "execution_count": 44,
   "id": "cfd0afa5",
   "metadata": {
    "scrolled": true
   },
   "outputs": [
    {
     "data": {
      "text/html": [
       "<div>\n",
       "<style scoped>\n",
       "    .dataframe tbody tr th:only-of-type {\n",
       "        vertical-align: middle;\n",
       "    }\n",
       "\n",
       "    .dataframe tbody tr th {\n",
       "        vertical-align: top;\n",
       "    }\n",
       "\n",
       "    .dataframe thead th {\n",
       "        text-align: right;\n",
       "    }\n",
       "</style>\n",
       "<table border=\"1\" class=\"dataframe\">\n",
       "  <thead>\n",
       "    <tr style=\"text-align: right;\">\n",
       "      <th></th>\n",
       "      <th>Model</th>\n",
       "      <th>Best_score</th>\n",
       "      <th>Best_params</th>\n",
       "      <th>Acuracy</th>\n",
       "      <th>Confusion_matrix</th>\n",
       "    </tr>\n",
       "  </thead>\n",
       "  <tbody>\n",
       "    <tr>\n",
       "      <th>0</th>\n",
       "      <td>K-Nearest Neighbors</td>\n",
       "      <td>0.916850</td>\n",
       "      <td>{'n_neighbors': 5}</td>\n",
       "      <td>0.917924</td>\n",
       "      <td>[[37616, 2094], [4302, 33916]]</td>\n",
       "    </tr>\n",
       "    <tr>\n",
       "      <th>1</th>\n",
       "      <td>Decision Tree</td>\n",
       "      <td>0.929824</td>\n",
       "      <td>{'criterion': 'entropy', 'min_samples_split': 30}</td>\n",
       "      <td>0.932925</td>\n",
       "      <td>[[37499, 2211], [3016, 35202]]</td>\n",
       "    </tr>\n",
       "    <tr>\n",
       "      <th>2</th>\n",
       "      <td>Naive Bayes</td>\n",
       "      <td>0.819358</td>\n",
       "      <td>{'var_smoothing': 0.04328761281083057}</td>\n",
       "      <td>0.817370</td>\n",
       "      <td>[[32983, 6727], [7505, 30713]]</td>\n",
       "    </tr>\n",
       "    <tr>\n",
       "      <th>3</th>\n",
       "      <td>Random Forest</td>\n",
       "      <td>0.947962</td>\n",
       "      <td>{'n_estimators': 150}</td>\n",
       "      <td>0.950942</td>\n",
       "      <td>[[38320, 1390], [2433, 35785]]</td>\n",
       "    </tr>\n",
       "    <tr>\n",
       "      <th>4</th>\n",
       "      <td>Logistic Regression</td>\n",
       "      <td>0.829571</td>\n",
       "      <td>{'C': 100, 'solver': 'newton-cg'}</td>\n",
       "      <td>0.826853</td>\n",
       "      <td>[[33538, 6172], [7321, 30897]]</td>\n",
       "    </tr>\n",
       "  </tbody>\n",
       "</table>\n",
       "</div>"
      ],
      "text/plain": [
       "                 Model  Best_score  \\\n",
       "0  K-Nearest Neighbors    0.916850   \n",
       "1        Decision Tree    0.929824   \n",
       "2          Naive Bayes    0.819358   \n",
       "3        Random Forest    0.947962   \n",
       "4  Logistic Regression    0.829571   \n",
       "\n",
       "                                         Best_params   Acuracy  \\\n",
       "0                                 {'n_neighbors': 5}  0.917924   \n",
       "1  {'criterion': 'entropy', 'min_samples_split': 30}  0.932925   \n",
       "2             {'var_smoothing': 0.04328761281083057}  0.817370   \n",
       "3                              {'n_estimators': 150}  0.950942   \n",
       "4                  {'C': 100, 'solver': 'newton-cg'}  0.826853   \n",
       "\n",
       "                 Confusion_matrix  \n",
       "0  [[37616, 2094], [4302, 33916]]  \n",
       "1  [[37499, 2211], [3016, 35202]]  \n",
       "2  [[32983, 6727], [7505, 30713]]  \n",
       "3  [[38320, 1390], [2433, 35785]]  \n",
       "4  [[33538, 6172], [7321, 30897]]  "
      ]
     },
     "execution_count": 44,
     "metadata": {},
     "output_type": "execute_result"
    }
   ],
   "source": [
    "model_params = {    \n",
    "    'K-Nearest Neighbors': {\n",
    "        'model': KNeighborsClassifier(),\n",
    "        'params' : {\n",
    "            'n_neighbors': [5,10,20],\n",
    "        }  \n",
    "    },\n",
    "    'Decision Tree': {\n",
    "        'model': DecisionTreeClassifier(),\n",
    "        'params' : {\n",
    "            'min_samples_split': [10,20,30],\n",
    "            'criterion': [\"gini\", \"entropy\"]\n",
    "        }  \n",
    "    },\n",
    "    'Naive Bayes':{ \n",
    "        'model': GaussianNB(),\n",
    "        'params' : {\n",
    "            'var_smoothing': np.logspace(0,-9, num=100)\n",
    "        }  \n",
    "        \n",
    "    },\n",
    "    'Random Forest': {\n",
    "        'model': RandomForestClassifier(),\n",
    "        'params' : {\n",
    "            'n_estimators': [10,100, 150]\n",
    "        }\n",
    "    },\n",
    "    'Logistic Regression' : {\n",
    "        'model': LogisticRegression(),\n",
    "        'params': {\n",
    "            'C': [1,10,100],\n",
    "            'solver': ['newton-cg', 'liblinear']\n",
    "        }\n",
    "    }\n",
    "}\n",
    "\n",
    "scores = []\n",
    "\n",
    "for model_name, mp in model_params.items():\n",
    "    clf =  GridSearchCV(mp['model'], mp['params'], cv=5, return_train_score=False)\n",
    "    clf.fit(Xscaled_train, yscaled_train)\n",
    "    predictions = clf.predict(Xscaled_test)\n",
    "    scores.append({\n",
    "        'Model': model_name,\n",
    "        'Best_score': clf.best_score_,\n",
    "        'Best_params': clf.best_params_,\n",
    "        'Acuracy': accuracy_score(yscaled_test,predictions),\n",
    "        'Confusion_matrix': confusion_matrix(yscaled_test,predictions)\n",
    "    })\n",
    "    \n",
    "df_train_test_splitN = pd.DataFrame(scores,columns=['Model','Best_score','Best_params', 'Acuracy','Confusion_matrix'])\n",
    "df_train_test_splitN"
   ]
  },
  {
   "cell_type": "code",
   "execution_count": 45,
   "id": "6639a683",
   "metadata": {},
   "outputs": [
    {
     "data": {
      "text/html": [
       "<div>\n",
       "<style scoped>\n",
       "    .dataframe tbody tr th:only-of-type {\n",
       "        vertical-align: middle;\n",
       "    }\n",
       "\n",
       "    .dataframe tbody tr th {\n",
       "        vertical-align: top;\n",
       "    }\n",
       "\n",
       "    .dataframe thead th {\n",
       "        text-align: right;\n",
       "    }\n",
       "</style>\n",
       "<table border=\"1\" class=\"dataframe\">\n",
       "  <thead>\n",
       "    <tr style=\"text-align: right;\">\n",
       "      <th></th>\n",
       "      <th>Model</th>\n",
       "      <th>Best_score</th>\n",
       "      <th>Best_params</th>\n",
       "      <th>Acuracy</th>\n",
       "      <th>Confusion_matrix</th>\n",
       "    </tr>\n",
       "  </thead>\n",
       "  <tbody>\n",
       "    <tr>\n",
       "      <th>0</th>\n",
       "      <td>K-Nearest Neighbors</td>\n",
       "      <td>0.916850</td>\n",
       "      <td>{'n_neighbors': 5}</td>\n",
       "      <td>0.917924</td>\n",
       "      <td>[[37616, 2094], [4302, 33916]]</td>\n",
       "    </tr>\n",
       "    <tr>\n",
       "      <th>1</th>\n",
       "      <td>Decision Tree</td>\n",
       "      <td>0.929824</td>\n",
       "      <td>{'criterion': 'entropy', 'min_samples_split': 30}</td>\n",
       "      <td>0.932925</td>\n",
       "      <td>[[37499, 2211], [3016, 35202]]</td>\n",
       "    </tr>\n",
       "    <tr>\n",
       "      <th>2</th>\n",
       "      <td>Naive Bayes</td>\n",
       "      <td>0.819358</td>\n",
       "      <td>{'var_smoothing': 0.04328761281083057}</td>\n",
       "      <td>0.817370</td>\n",
       "      <td>[[32983, 6727], [7505, 30713]]</td>\n",
       "    </tr>\n",
       "    <tr>\n",
       "      <th>3</th>\n",
       "      <td>Random Forest</td>\n",
       "      <td>0.947962</td>\n",
       "      <td>{'n_estimators': 150}</td>\n",
       "      <td>0.950942</td>\n",
       "      <td>[[38320, 1390], [2433, 35785]]</td>\n",
       "    </tr>\n",
       "    <tr>\n",
       "      <th>4</th>\n",
       "      <td>Logistic Regression</td>\n",
       "      <td>0.829571</td>\n",
       "      <td>{'C': 100, 'solver': 'newton-cg'}</td>\n",
       "      <td>0.826853</td>\n",
       "      <td>[[33538, 6172], [7321, 30897]]</td>\n",
       "    </tr>\n",
       "  </tbody>\n",
       "</table>\n",
       "</div>"
      ],
      "text/plain": [
       "                 Model  Best_score  \\\n",
       "0  K-Nearest Neighbors    0.916850   \n",
       "1        Decision Tree    0.929824   \n",
       "2          Naive Bayes    0.819358   \n",
       "3        Random Forest    0.947962   \n",
       "4  Logistic Regression    0.829571   \n",
       "\n",
       "                                         Best_params   Acuracy  \\\n",
       "0                                 {'n_neighbors': 5}  0.917924   \n",
       "1  {'criterion': 'entropy', 'min_samples_split': 30}  0.932925   \n",
       "2             {'var_smoothing': 0.04328761281083057}  0.817370   \n",
       "3                              {'n_estimators': 150}  0.950942   \n",
       "4                  {'C': 100, 'solver': 'newton-cg'}  0.826853   \n",
       "\n",
       "                 Confusion_matrix  \n",
       "0  [[37616, 2094], [4302, 33916]]  \n",
       "1  [[37499, 2211], [3016, 35202]]  \n",
       "2  [[32983, 6727], [7505, 30713]]  \n",
       "3  [[38320, 1390], [2433, 35785]]  \n",
       "4  [[33538, 6172], [7321, 30897]]  "
      ]
     },
     "execution_count": 45,
     "metadata": {},
     "output_type": "execute_result"
    }
   ],
   "source": [
    "df_train_test_splitN = pd.DataFrame(scores,columns=['Model','Best_score','Best_params', 'Acuracy','Confusion_matrix'])\n",
    "df_train_test_splitN"
   ]
  },
  {
   "cell_type": "markdown",
   "id": "fd55f6b2",
   "metadata": {},
   "source": [
    "## Cross-validation with normalized data"
   ]
  },
  {
   "cell_type": "code",
   "execution_count": 46,
   "id": "db69db2d",
   "metadata": {},
   "outputs": [],
   "source": [
    "CV_scoresN=[]"
   ]
  },
  {
   "cell_type": "markdown",
   "id": "1aca985c",
   "metadata": {},
   "source": [
    "## KNN"
   ]
  },
  {
   "cell_type": "code",
   "execution_count": 47,
   "id": "3349b2f0",
   "metadata": {
    "scrolled": true
   },
   "outputs": [
    {
     "name": "stdout",
     "output_type": "stream",
     "text": [
      "              precision    recall  f1-score   support\n",
      "\n",
      "           0     0.7059    0.7523    0.7284    132245\n",
      "           1     0.7244    0.6750    0.6988    127512\n",
      "\n",
      "    accuracy                         0.7144    259757\n",
      "   macro avg     0.7151    0.7137    0.7136    259757\n",
      "weighted avg     0.7150    0.7144    0.7139    259757\n",
      "\n"
     ]
    }
   ],
   "source": [
    "# Scaled data with Cross-validation\n",
    "\n",
    "classifier = KNeighborsClassifier(n_neighbors=5)\n",
    "predictions = cross_val_predict(classifier, X_scaled, y, cv = 5)\n",
    "CV_scoresN.append({\n",
    "        'Model': 'K-Nearest Neighbors',\n",
    "        'Acuracy': accuracy_score(y,predictions),\n",
    "        'Confusion_matrix': confusion_matrix(y,predictions)\n",
    "    })\n",
    "print(classification_report(y, predictions, digits=4))"
   ]
  },
  {
   "cell_type": "markdown",
   "id": "cd4469b0",
   "metadata": {},
   "source": [
    "## Decision Tree"
   ]
  },
  {
   "cell_type": "code",
   "execution_count": 48,
   "id": "7b31c611",
   "metadata": {},
   "outputs": [
    {
     "name": "stdout",
     "output_type": "stream",
     "text": [
      "              precision    recall  f1-score   support\n",
      "\n",
      "           0     0.7309    0.6953    0.7127    132245\n",
      "           1     0.6992    0.7345    0.7164    127512\n",
      "\n",
      "    accuracy                         0.7146    259757\n",
      "   macro avg     0.7151    0.7149    0.7145    259757\n",
      "weighted avg     0.7153    0.7146    0.7145    259757\n",
      "\n"
     ]
    }
   ],
   "source": [
    "classifier = DecisionTreeClassifier(criterion= 'entropy', min_samples_split= 30)\n",
    "predictions = cross_val_predict(classifier, X, y, cv = 5)\n",
    "CV_scoresN.append({\n",
    "        'Model': 'Decision Tree',\n",
    "        'Acuracy': accuracy_score(y,predictions),\n",
    "        'Confusion_matrix': confusion_matrix(y,predictions)\n",
    "    })\n",
    "print(classification_report(y, predictions, digits=4))"
   ]
  },
  {
   "cell_type": "markdown",
   "id": "0163b744",
   "metadata": {},
   "source": [
    "## Naive Bayes"
   ]
  },
  {
   "cell_type": "code",
   "execution_count": 49,
   "id": "1610c850",
   "metadata": {},
   "outputs": [
    {
     "name": "stdout",
     "output_type": "stream",
     "text": [
      "              precision    recall  f1-score   support\n",
      "\n",
      "           0     0.7310    0.8244    0.7749    132245\n",
      "           1     0.7901    0.6854    0.7340    127512\n",
      "\n",
      "    accuracy                         0.7562    259757\n",
      "   macro avg     0.7606    0.7549    0.7545    259757\n",
      "weighted avg     0.7600    0.7562    0.7549    259757\n",
      "\n"
     ]
    }
   ],
   "source": [
    "classifier = GaussianNB(var_smoothing = 1e-09)\n",
    "predictions = cross_val_predict(classifier, X, y, cv = 5)\n",
    "CV_scoresN.append({\n",
    "        'Model': 'Naive Bayes',\n",
    "        'Acuracy': accuracy_score(y,predictions),\n",
    "        'Confusion_matrix': confusion_matrix(y,predictions)\n",
    "    })\n",
    "print(classification_report(y, predictions, digits=4))"
   ]
  },
  {
   "cell_type": "markdown",
   "id": "24ebc3be",
   "metadata": {},
   "source": [
    "## Random Forest"
   ]
  },
  {
   "cell_type": "code",
   "execution_count": 50,
   "id": "5efefc36",
   "metadata": {},
   "outputs": [
    {
     "name": "stdout",
     "output_type": "stream",
     "text": [
      "              precision    recall  f1-score   support\n",
      "\n",
      "           0     0.7495    0.7259    0.7375    132245\n",
      "           1     0.7247    0.7483    0.7363    127512\n",
      "\n",
      "    accuracy                         0.7369    259757\n",
      "   macro avg     0.7371    0.7371    0.7369    259757\n",
      "weighted avg     0.7373    0.7369    0.7369    259757\n",
      "\n"
     ]
    }
   ],
   "source": [
    "classifier = RandomForestClassifier(n_estimators =150)\n",
    "predictions = cross_val_predict(classifier, X_scaled, y, cv = 5)\n",
    "CV_scoresN.append({\n",
    "        'Model': 'Random Forest',\n",
    "        'Acuracy': accuracy_score(y,predictions),\n",
    "        'Confusion_matrix': confusion_matrix(y,predictions)\n",
    "    })\n",
    "print(classification_report(y, predictions, digits=4))"
   ]
  },
  {
   "cell_type": "markdown",
   "id": "945a0e98",
   "metadata": {},
   "source": [
    "## Logistic Regression"
   ]
  },
  {
   "cell_type": "code",
   "execution_count": 51,
   "id": "70f46c94",
   "metadata": {
    "scrolled": false
   },
   "outputs": [
    {
     "name": "stdout",
     "output_type": "stream",
     "text": [
      "              precision    recall  f1-score   support\n",
      "\n",
      "           0     0.7495    0.7880    0.7683    132245\n",
      "           1     0.7678    0.7269    0.7468    127512\n",
      "\n",
      "    accuracy                         0.7580    259757\n",
      "   macro avg     0.7587    0.7575    0.7575    259757\n",
      "weighted avg     0.7585    0.7580    0.7577    259757\n",
      "\n"
     ]
    }
   ],
   "source": [
    "classifier = LogisticRegression(C=10, solver='newton-cg')\n",
    "predictions = cross_val_predict(classifier, X_scaled, y, cv = 5)\n",
    "CV_scoresN.append({\n",
    "        'Model': 'Logistic Regression',\n",
    "        'Acuracy': accuracy_score(y,predictions),\n",
    "        'Confusion_matrix': confusion_matrix(y,predictions)\n",
    "    })\n",
    "print(classification_report(y, predictions, digits=4))"
   ]
  },
  {
   "cell_type": "code",
   "execution_count": 52,
   "id": "3ee1f466",
   "metadata": {},
   "outputs": [
    {
     "data": {
      "text/html": [
       "<div>\n",
       "<style scoped>\n",
       "    .dataframe tbody tr th:only-of-type {\n",
       "        vertical-align: middle;\n",
       "    }\n",
       "\n",
       "    .dataframe tbody tr th {\n",
       "        vertical-align: top;\n",
       "    }\n",
       "\n",
       "    .dataframe thead th {\n",
       "        text-align: right;\n",
       "    }\n",
       "</style>\n",
       "<table border=\"1\" class=\"dataframe\">\n",
       "  <thead>\n",
       "    <tr style=\"text-align: right;\">\n",
       "      <th></th>\n",
       "      <th>Model</th>\n",
       "      <th>Acuracy</th>\n",
       "      <th>Confusion_matrix</th>\n",
       "    </tr>\n",
       "  </thead>\n",
       "  <tbody>\n",
       "    <tr>\n",
       "      <th>0</th>\n",
       "      <td>K-Nearest Neighbors</td>\n",
       "      <td>0.714360</td>\n",
       "      <td>[[99493, 32752], [41445, 86067]]</td>\n",
       "    </tr>\n",
       "    <tr>\n",
       "      <th>1</th>\n",
       "      <td>Decision Tree</td>\n",
       "      <td>0.714560</td>\n",
       "      <td>[[91954, 40291], [33854, 93658]]</td>\n",
       "    </tr>\n",
       "    <tr>\n",
       "      <th>2</th>\n",
       "      <td>Naive Bayes</td>\n",
       "      <td>0.756188</td>\n",
       "      <td>[[109027, 23218], [40114, 87398]]</td>\n",
       "    </tr>\n",
       "    <tr>\n",
       "      <th>3</th>\n",
       "      <td>Random Forest</td>\n",
       "      <td>0.736896</td>\n",
       "      <td>[[95992, 36253], [32090, 95422]]</td>\n",
       "    </tr>\n",
       "    <tr>\n",
       "      <th>4</th>\n",
       "      <td>Logistic Regression</td>\n",
       "      <td>0.758024</td>\n",
       "      <td>[[104213, 28032], [34823, 92689]]</td>\n",
       "    </tr>\n",
       "  </tbody>\n",
       "</table>\n",
       "</div>"
      ],
      "text/plain": [
       "                 Model   Acuracy                   Confusion_matrix\n",
       "0  K-Nearest Neighbors  0.714360   [[99493, 32752], [41445, 86067]]\n",
       "1        Decision Tree  0.714560   [[91954, 40291], [33854, 93658]]\n",
       "2          Naive Bayes  0.756188  [[109027, 23218], [40114, 87398]]\n",
       "3        Random Forest  0.736896   [[95992, 36253], [32090, 95422]]\n",
       "4  Logistic Regression  0.758024  [[104213, 28032], [34823, 92689]]"
      ]
     },
     "execution_count": 52,
     "metadata": {},
     "output_type": "execute_result"
    }
   ],
   "source": [
    "df_CVN = pd.DataFrame(CV_scoresN,columns=['Model','Acuracy','Confusion_matrix'])\n",
    "df_CVN"
   ]
  },
  {
   "cell_type": "code",
   "execution_count": 53,
   "id": "d5afaec5",
   "metadata": {},
   "outputs": [
    {
     "data": {
      "text/html": [
       "<div>\n",
       "<style scoped>\n",
       "    .dataframe tbody tr th:only-of-type {\n",
       "        vertical-align: middle;\n",
       "    }\n",
       "\n",
       "    .dataframe tbody tr th {\n",
       "        vertical-align: top;\n",
       "    }\n",
       "\n",
       "    .dataframe thead th {\n",
       "        text-align: right;\n",
       "    }\n",
       "</style>\n",
       "<table border=\"1\" class=\"dataframe\">\n",
       "  <thead>\n",
       "    <tr style=\"text-align: right;\">\n",
       "      <th>Model</th>\n",
       "      <th>K-Nearest Neighbors</th>\n",
       "      <th>Decision Tree</th>\n",
       "      <th>Naive Bayes</th>\n",
       "      <th>Random Forest</th>\n",
       "      <th>Logistic Regression</th>\n",
       "    </tr>\n",
       "  </thead>\n",
       "  <tbody>\n",
       "    <tr>\n",
       "      <th>train_test_split</th>\n",
       "      <td>0.917924</td>\n",
       "      <td>0.932925</td>\n",
       "      <td>0.817370</td>\n",
       "      <td>0.950942</td>\n",
       "      <td>0.826853</td>\n",
       "    </tr>\n",
       "    <tr>\n",
       "      <th>cross_val</th>\n",
       "      <td>0.714360</td>\n",
       "      <td>0.714560</td>\n",
       "      <td>0.756188</td>\n",
       "      <td>0.736896</td>\n",
       "      <td>0.758024</td>\n",
       "    </tr>\n",
       "  </tbody>\n",
       "</table>\n",
       "</div>"
      ],
      "text/plain": [
       "Model             K-Nearest Neighbors  Decision Tree  Naive Bayes  \\\n",
       "train_test_split             0.917924       0.932925     0.817370   \n",
       "cross_val                    0.714360       0.714560     0.756188   \n",
       "\n",
       "Model             Random Forest  Logistic Regression  \n",
       "train_test_split       0.950942             0.826853  \n",
       "cross_val              0.736896             0.758024  "
      ]
     },
     "execution_count": 53,
     "metadata": {},
     "output_type": "execute_result"
    }
   ],
   "source": [
    "a = {'Model': df_CVN['Model'],\n",
    "        'train_test_split': df_train_test_splitN['Acuracy'],\n",
    "        'cross_val': df_CVN['Acuracy']\n",
    "       }\n",
    "Line_ChartN = pd.DataFrame(a).set_index('Model').T\n",
    "Line_ChartN"
   ]
  },
  {
   "cell_type": "code",
   "execution_count": 54,
   "id": "4fb82dd7",
   "metadata": {},
   "outputs": [
    {
     "data": {
      "text/plain": [
       "<Figure size 1800x720 with 0 Axes>"
      ]
     },
     "execution_count": 54,
     "metadata": {},
     "output_type": "execute_result"
    },
    {
     "data": {
      "image/png": "[encoded data removed]",
      "text/plain": [
       "<Figure size 1440x720 with 4 Axes>"
      ]
     },
     "metadata": {
      "needs_background": "light"
     },
     "output_type": "display_data"
    },
    {
     "data": {
      "text/plain": [
       "<Figure size 1800x720 with 0 Axes>"
      ]
     },
     "metadata": {},
     "output_type": "display_data"
    }
   ],
   "source": [
    "\n",
    "plt.figure(figsize=[20,10])\n",
    "plt.suptitle('Performance Comparison',fontsize = 16)\n",
    "\n",
    "plt.subplot(2,2,1)\n",
    "plt.title('actual data')\n",
    "sns.lineplot(data=df_CV, x='Model', y='Acuracy', color=\"red\", linewidth = 3)\n",
    "sns.lineplot(data=df_TTS, x='Model', y='Acuracy', linewidth = 3);\n",
    "\n",
    "plt.subplot(2,2,2)\n",
    "sns.lineplot(data=Line_Chart, markers=True, dashes=False, linewidth = 3);\n",
    "\n",
    "plt.subplot(2,2,3)\n",
    "plt.title('normalized data')\n",
    "sns.lineplot(data=df_CVN, x='Model', y='Acuracy', color=\"red\", linewidth = 3)\n",
    "sns.lineplot(data=df_train_test_splitN, x='Model', y='Acuracy', linewidth = 3);\n",
    "\n",
    "plt.subplot(2,2,4)\n",
    "sns.lineplot(data=Line_ChartN, markers=True, dashes=False, linewidth = 3);\n",
    "plt.figure(figsize=[25,10])\n"
   ]
  },
  {
   "cell_type": "code",
   "execution_count": 125,
   "id": "42bb0e73",
   "metadata": {},
   "outputs": [
    {
     "data": {
      "text/html": [
       "<div>\n",
       "<style scoped>\n",
       "    .dataframe tbody tr th:only-of-type {\n",
       "        vertical-align: middle;\n",
       "    }\n",
       "\n",
       "    .dataframe tbody tr th {\n",
       "        vertical-align: top;\n",
       "    }\n",
       "\n",
       "    .dataframe thead th {\n",
       "        text-align: right;\n",
       "    }\n",
       "</style>\n",
       "<table border=\"1\" class=\"dataframe\">\n",
       "  <thead>\n",
       "    <tr style=\"text-align: right;\">\n",
       "      <th>Model</th>\n",
       "      <th>K-Nearest Neighbors</th>\n",
       "      <th>Decision Tree</th>\n",
       "      <th>Naive Bayes</th>\n",
       "      <th>Random Forest</th>\n",
       "      <th>Logistic Regression</th>\n",
       "    </tr>\n",
       "  </thead>\n",
       "  <tbody>\n",
       "    <tr>\n",
       "      <th>train_test_split</th>\n",
       "      <td>73.454984</td>\n",
       "      <td>93.280977</td>\n",
       "      <td>81.477774</td>\n",
       "      <td>95.117288</td>\n",
       "      <td>82.685299</td>\n",
       "    </tr>\n",
       "    <tr>\n",
       "      <th>cross_val</th>\n",
       "      <td>69.370219</td>\n",
       "      <td>71.713178</td>\n",
       "      <td>75.618751</td>\n",
       "      <td>73.693105</td>\n",
       "      <td>75.804309</td>\n",
       "    </tr>\n",
       "    <tr>\n",
       "      <th>train_test_split_Normalized</th>\n",
       "      <td>91.792424</td>\n",
       "      <td>93.292526</td>\n",
       "      <td>81.736988</td>\n",
       "      <td>95.094190</td>\n",
       "      <td>82.685299</td>\n",
       "    </tr>\n",
       "    <tr>\n",
       "      <th>cross_val_Normalized</th>\n",
       "      <td>71.435996</td>\n",
       "      <td>71.456015</td>\n",
       "      <td>75.618751</td>\n",
       "      <td>73.689641</td>\n",
       "      <td>75.802385</td>\n",
       "    </tr>\n",
       "  </tbody>\n",
       "</table>\n",
       "</div>"
      ],
      "text/plain": [
       "Model                        K-Nearest Neighbors  Decision Tree  Naive Bayes  \\\n",
       "train_test_split                       73.454984      93.280977    81.477774   \n",
       "cross_val                              69.370219      71.713178    75.618751   \n",
       "train_test_split_Normalized            91.792424      93.292526    81.736988   \n",
       "cross_val_Normalized                   71.435996      71.456015    75.618751   \n",
       "\n",
       "Model                        Random Forest  Logistic Regression  \n",
       "train_test_split                 95.117288            82.685299  \n",
       "cross_val                        73.693105            75.804309  \n",
       "train_test_split_Normalized      95.094190            82.685299  \n",
       "cross_val_Normalized             73.689641            75.802385  "
      ]
     },
     "execution_count": 125,
     "metadata": {},
     "output_type": "execute_result"
    }
   ],
   "source": [
    "data2 = {'Model': df_CV['Model'],\n",
    "        'train_test_split': df_TTS['Acuracy']*100,\n",
    "        'cross_val': df_CV['Acuracy']*100,\n",
    "        'train_test_split_Normalized':df_train_test_splitN['Acuracy']*100,\n",
    "        'cross_val_Normalized': df_CVN['Acuracy']*100\n",
    "       }\n",
    "comparisionTable = pd.DataFrame(data2).set_index('Model').T\n",
    "comparisionTable"
   ]
  },
  {
   "cell_type": "code",
   "execution_count": 126,
   "id": "7c290602",
   "metadata": {},
   "outputs": [
    {
     "name": "stdout",
     "output_type": "stream",
     "text": [
      "|                             |   K-Nearest Neighbors |   Decision Tree |   Naive Bayes |   Random Forest |   Logistic Regression |\n",
      "|:----------------------------|----------------------:|----------------:|--------------:|----------------:|----------------------:|\n",
      "| train_test_split            |               73.455  |         93.281  |       81.4778 |         95.1173 |               82.6853 |\n",
      "| cross_val                   |               69.3702 |         71.7132 |       75.6188 |         73.6931 |               75.8043 |\n",
      "| train_test_split_Normalized |               91.7924 |         93.2925 |       81.737  |         95.0942 |               82.6853 |\n",
      "| cross_val_Normalized        |               71.436  |         71.456  |       75.6188 |         73.6896 |               75.8024 |\n"
     ]
    }
   ],
   "source": [
    "# print(comparisionTable.to_markdown())"
   ]
  },
  {
   "cell_type": "markdown",
   "id": "e23dbada",
   "metadata": {},
   "source": [
    "### at the end normalization didn't change the result except for KNeighborsClassifier it improved it "
   ]
  },
  {
   "cell_type": "markdown",
   "id": "1d9e864a",
   "metadata": {},
   "source": [
    "### using Logistic Regression to make predictions"
   ]
  },
  {
   "cell_type": "code",
   "execution_count": 196,
   "id": "0f0058db",
   "metadata": {},
   "outputs": [
    {
     "data": {
      "text/html": [
       "<div>\n",
       "<style scoped>\n",
       "    .dataframe tbody tr th:only-of-type {\n",
       "        vertical-align: middle;\n",
       "    }\n",
       "\n",
       "    .dataframe tbody tr th {\n",
       "        vertical-align: top;\n",
       "    }\n",
       "\n",
       "    .dataframe thead th {\n",
       "        text-align: right;\n",
       "    }\n",
       "</style>\n",
       "<table border=\"1\" class=\"dataframe\">\n",
       "  <thead>\n",
       "    <tr style=\"text-align: right;\">\n",
       "      <th></th>\n",
       "      <th>Age</th>\n",
       "      <th>Flight Distance</th>\n",
       "      <th>Seat comfort</th>\n",
       "      <th>Food and drink</th>\n",
       "      <th>Inflight wifi service</th>\n",
       "      <th>Inflight entertainment</th>\n",
       "      <th>Ease of Online booking</th>\n",
       "      <th>On-board service</th>\n",
       "      <th>Leg room service</th>\n",
       "      <th>Baggage handling</th>\n",
       "      <th>Checkin service</th>\n",
       "      <th>Cleanliness</th>\n",
       "      <th>Online boarding</th>\n",
       "      <th>Departure Delay in Minutes</th>\n",
       "      <th>Gender</th>\n",
       "      <th>Customer Type</th>\n",
       "      <th>Type of Travel</th>\n",
       "      <th>Class</th>\n",
       "    </tr>\n",
       "  </thead>\n",
       "  <tbody>\n",
       "    <tr>\n",
       "      <th>0</th>\n",
       "      <td>65</td>\n",
       "      <td>265</td>\n",
       "      <td>0</td>\n",
       "      <td>0</td>\n",
       "      <td>2</td>\n",
       "      <td>4</td>\n",
       "      <td>3</td>\n",
       "      <td>3</td>\n",
       "      <td>0</td>\n",
       "      <td>3</td>\n",
       "      <td>5</td>\n",
       "      <td>3</td>\n",
       "      <td>2</td>\n",
       "      <td>0</td>\n",
       "      <td>0</td>\n",
       "      <td>0</td>\n",
       "      <td>1</td>\n",
       "      <td>1</td>\n",
       "    </tr>\n",
       "  </tbody>\n",
       "</table>\n",
       "</div>"
      ],
      "text/plain": [
       "   Age  Flight Distance  Seat comfort  Food and drink  Inflight wifi service  \\\n",
       "0   65              265             0               0                      2   \n",
       "\n",
       "   Inflight entertainment  Ease of Online booking  On-board service  \\\n",
       "0                       4                       3                 3   \n",
       "\n",
       "   Leg room service  Baggage handling  Checkin service  Cleanliness  \\\n",
       "0                 0                 3                5            3   \n",
       "\n",
       "   Online boarding  Departure Delay in Minutes  Gender  Customer Type  \\\n",
       "0                2                           0       0              0   \n",
       "\n",
       "   Type of Travel  Class  \n",
       "0               1      1  "
      ]
     },
     "execution_count": 196,
     "metadata": {},
     "output_type": "execute_result"
    }
   ],
   "source": [
    "X.head(1)"
   ]
  },
  {
   "cell_type": "code",
   "execution_count": 91,
   "id": "92f89d90",
   "metadata": {
    "scrolled": true
   },
   "outputs": [],
   "source": [
    "LR = LogisticRegression(C=10, solver='newton-cg')\n",
    "predictions = cross_val_predict(LR, X, y, cv = 5)"
   ]
  },
  {
   "cell_type": "code",
   "execution_count": 93,
   "id": "27f605d3",
   "metadata": {
    "scrolled": true
   },
   "outputs": [
    {
     "data": {
      "text/plain": [
       "LogisticRegression(C=10, solver='newton-cg')"
      ]
     },
     "execution_count": 93,
     "metadata": {},
     "output_type": "execute_result"
    }
   ],
   "source": [
    "LR.fit(X_train, y_train)\n"
   ]
  },
  {
   "cell_type": "code",
   "execution_count": 193,
   "id": "b2aca481",
   "metadata": {},
   "outputs": [
    {
     "data": {
      "text/plain": [
       "array([1])"
      ]
     },
     "execution_count": 193,
     "metadata": {},
     "output_type": "execute_result"
    }
   ],
   "source": [
    "LR.predict([[51,2570,5,5,4,5,4,4,3,5,3,5,4,25,0,0,0,0]]) \n"
   ]
  },
  {
   "cell_type": "code",
   "execution_count": 98,
   "id": "3eb17bd4",
   "metadata": {},
   "outputs": [
    {
     "data": {
      "text/plain": [
       "array([0])"
      ]
     },
     "execution_count": 98,
     "metadata": {},
     "output_type": "execute_result"
    }
   ],
   "source": [
    "LR.predict([[65,265,0,4,4,4,3,3,0,3,5,3,2,0,1,0,1,1]])"
   ]
  },
  {
   "cell_type": "code",
   "execution_count": 123,
   "id": "86c13def",
   "metadata": {
    "scrolled": true
   },
   "outputs": [
    {
     "data": {
      "text/plain": [
       "array([1])"
      ]
     },
     "execution_count": 123,
     "metadata": {},
     "output_type": "execute_result"
    }
   ],
   "source": [
    "LR.predict([[47,3939,5,5,1,5,3,2,5,4,5,5,5,0,0,0,0,0]])"
   ]
  },
  {
   "cell_type": "code",
   "execution_count": 124,
   "id": "20175b28",
   "metadata": {},
   "outputs": [
    {
     "data": {
      "text/plain": [
       "array([0])"
      ]
     },
     "execution_count": 124,
     "metadata": {},
     "output_type": "execute_result"
    }
   ],
   "source": [
    "LR.predict([[47,2464,0,0,0,2,3,4,4,4,2,3,2,310,1,0,1,0]])"
   ]
  },
  {
   "cell_type": "code",
   "execution_count": 159,
   "id": "d68b052b",
   "metadata": {
    "scrolled": true
   },
   "outputs": [],
   "source": [
    "res= pd.DataFrame({'Actual': y, 'Predicted': predictions})\n"
   ]
  },
  {
   "cell_type": "code",
   "execution_count": 197,
   "id": "caa97b6f",
   "metadata": {
    "scrolled": true
   },
   "outputs": [
    {
     "data": {
      "text/html": [
       "<div>\n",
       "<style scoped>\n",
       "    .dataframe tbody tr th:only-of-type {\n",
       "        vertical-align: middle;\n",
       "    }\n",
       "\n",
       "    .dataframe tbody tr th {\n",
       "        vertical-align: top;\n",
       "    }\n",
       "\n",
       "    .dataframe thead th {\n",
       "        text-align: right;\n",
       "    }\n",
       "</style>\n",
       "<table border=\"1\" class=\"dataframe\">\n",
       "  <thead>\n",
       "    <tr style=\"text-align: right;\">\n",
       "      <th></th>\n",
       "      <th>Actual</th>\n",
       "      <th>Predicted</th>\n",
       "      <th>result</th>\n",
       "    </tr>\n",
       "  </thead>\n",
       "  <tbody>\n",
       "    <tr>\n",
       "      <th>0</th>\n",
       "      <td>1</td>\n",
       "      <td>0</td>\n",
       "      <td>1</td>\n",
       "    </tr>\n",
       "    <tr>\n",
       "      <th>1</th>\n",
       "      <td>1</td>\n",
       "      <td>0</td>\n",
       "      <td>1</td>\n",
       "    </tr>\n",
       "    <tr>\n",
       "      <th>2</th>\n",
       "      <td>1</td>\n",
       "      <td>0</td>\n",
       "      <td>1</td>\n",
       "    </tr>\n",
       "    <tr>\n",
       "      <th>3</th>\n",
       "      <td>1</td>\n",
       "      <td>0</td>\n",
       "      <td>1</td>\n",
       "    </tr>\n",
       "    <tr>\n",
       "      <th>4</th>\n",
       "      <td>1</td>\n",
       "      <td>0</td>\n",
       "      <td>1</td>\n",
       "    </tr>\n",
       "    <tr>\n",
       "      <th>...</th>\n",
       "      <td>...</td>\n",
       "      <td>...</td>\n",
       "      <td>...</td>\n",
       "    </tr>\n",
       "    <tr>\n",
       "      <th>259755</th>\n",
       "      <td>1</td>\n",
       "      <td>1</td>\n",
       "      <td>0</td>\n",
       "    </tr>\n",
       "    <tr>\n",
       "      <th>259756</th>\n",
       "      <td>1</td>\n",
       "      <td>1</td>\n",
       "      <td>0</td>\n",
       "    </tr>\n",
       "    <tr>\n",
       "      <th>259757</th>\n",
       "      <td>1</td>\n",
       "      <td>1</td>\n",
       "      <td>0</td>\n",
       "    </tr>\n",
       "    <tr>\n",
       "      <th>259758</th>\n",
       "      <td>1</td>\n",
       "      <td>1</td>\n",
       "      <td>0</td>\n",
       "    </tr>\n",
       "    <tr>\n",
       "      <th>259759</th>\n",
       "      <td>1</td>\n",
       "      <td>1</td>\n",
       "      <td>0</td>\n",
       "    </tr>\n",
       "  </tbody>\n",
       "</table>\n",
       "<p>259757 rows × 3 columns</p>\n",
       "</div>"
      ],
      "text/plain": [
       "        Actual  Predicted  result\n",
       "0            1          0       1\n",
       "1            1          0       1\n",
       "2            1          0       1\n",
       "3            1          0       1\n",
       "4            1          0       1\n",
       "...        ...        ...     ...\n",
       "259755       1          1       0\n",
       "259756       1          1       0\n",
       "259757       1          1       0\n",
       "259758       1          1       0\n",
       "259759       1          1       0\n",
       "\n",
       "[259757 rows x 3 columns]"
      ]
     },
     "execution_count": 197,
     "metadata": {},
     "output_type": "execute_result"
    }
   ],
   "source": [
    "res['result']= (res['Actual'] ^ res['Predicted']) # XOR\n",
    "res\n"
   ]
  },
  {
   "cell_type": "code",
   "execution_count": 198,
   "id": "f9ee8afc",
   "metadata": {
    "scrolled": true
   },
   "outputs": [
    {
     "data": {
      "text/html": [
       "<div>\n",
       "<style scoped>\n",
       "    .dataframe tbody tr th:only-of-type {\n",
       "        vertical-align: middle;\n",
       "    }\n",
       "\n",
       "    .dataframe tbody tr th {\n",
       "        vertical-align: top;\n",
       "    }\n",
       "\n",
       "    .dataframe thead th {\n",
       "        text-align: right;\n",
       "    }\n",
       "</style>\n",
       "<table border=\"1\" class=\"dataframe\">\n",
       "  <thead>\n",
       "    <tr style=\"text-align: right;\">\n",
       "      <th></th>\n",
       "      <th>result</th>\n",
       "    </tr>\n",
       "  </thead>\n",
       "  <tbody>\n",
       "    <tr>\n",
       "      <th>0</th>\n",
       "      <td>196907</td>\n",
       "    </tr>\n",
       "    <tr>\n",
       "      <th>1</th>\n",
       "      <td>62850</td>\n",
       "    </tr>\n",
       "  </tbody>\n",
       "</table>\n",
       "</div>"
      ],
      "text/plain": [
       "   result\n",
       "0  196907\n",
       "1   62850"
      ]
     },
     "execution_count": 198,
     "metadata": {},
     "output_type": "execute_result"
    }
   ],
   "source": [
    "pd.DataFrame(res['result'].value_counts()) # 0= True prediction, 1= False prediction"
   ]
  },
  {
   "cell_type": "code",
   "execution_count": 77,
   "id": "6fb049fb",
   "metadata": {},
   "outputs": [
    {
     "data": {
      "text/plain": [
       "array([0])"
      ]
     },
     "execution_count": 77,
     "metadata": {},
     "output_type": "execute_result"
    }
   ],
   "source": [
    "# rfc = RandomForestClassifier(n_estimators =150)\n",
    "# rfc.fit(Xscaled_train, yscaled_train)\n"
   ]
  },
  {
   "cell_type": "code",
   "execution_count": 134,
   "id": "274c1389",
   "metadata": {},
   "outputs": [],
   "source": [
    "# rfcPred=rfc.predict(Xscaled_test)\n"
   ]
  },
  {
   "cell_type": "code",
   "execution_count": 135,
   "id": "33ce9cfc",
   "metadata": {},
   "outputs": [],
   "source": [
    "# resRFC= pd.DataFrame({'Actual': y_test, 'Predicted': rfcPred})\n"
   ]
  },
  {
   "cell_type": "code",
   "execution_count": 146,
   "id": "e45f509a",
   "metadata": {},
   "outputs": [
    {
     "data": {
      "text/html": [
       "<div>\n",
       "<style scoped>\n",
       "    .dataframe tbody tr th:only-of-type {\n",
       "        vertical-align: middle;\n",
       "    }\n",
       "\n",
       "    .dataframe tbody tr th {\n",
       "        vertical-align: top;\n",
       "    }\n",
       "\n",
       "    .dataframe thead th {\n",
       "        text-align: right;\n",
       "    }\n",
       "</style>\n",
       "<table border=\"1\" class=\"dataframe\">\n",
       "  <thead>\n",
       "    <tr style=\"text-align: right;\">\n",
       "      <th></th>\n",
       "      <th>Actual</th>\n",
       "      <th>Predicted</th>\n",
       "      <th>result</th>\n",
       "    </tr>\n",
       "  </thead>\n",
       "  <tbody>\n",
       "    <tr>\n",
       "      <th>39028</th>\n",
       "      <td>1</td>\n",
       "      <td>1</td>\n",
       "      <td>0</td>\n",
       "    </tr>\n",
       "    <tr>\n",
       "      <th>182072</th>\n",
       "      <td>0</td>\n",
       "      <td>0</td>\n",
       "      <td>0</td>\n",
       "    </tr>\n",
       "    <tr>\n",
       "      <th>174192</th>\n",
       "      <td>0</td>\n",
       "      <td>0</td>\n",
       "      <td>0</td>\n",
       "    </tr>\n",
       "    <tr>\n",
       "      <th>160430</th>\n",
       "      <td>0</td>\n",
       "      <td>0</td>\n",
       "      <td>0</td>\n",
       "    </tr>\n",
       "    <tr>\n",
       "      <th>128510</th>\n",
       "      <td>1</td>\n",
       "      <td>1</td>\n",
       "      <td>0</td>\n",
       "    </tr>\n",
       "    <tr>\n",
       "      <th>...</th>\n",
       "      <td>...</td>\n",
       "      <td>...</td>\n",
       "      <td>...</td>\n",
       "    </tr>\n",
       "    <tr>\n",
       "      <th>141227</th>\n",
       "      <td>0</td>\n",
       "      <td>0</td>\n",
       "      <td>0</td>\n",
       "    </tr>\n",
       "    <tr>\n",
       "      <th>154418</th>\n",
       "      <td>0</td>\n",
       "      <td>0</td>\n",
       "      <td>0</td>\n",
       "    </tr>\n",
       "    <tr>\n",
       "      <th>120092</th>\n",
       "      <td>1</td>\n",
       "      <td>1</td>\n",
       "      <td>0</td>\n",
       "    </tr>\n",
       "    <tr>\n",
       "      <th>123497</th>\n",
       "      <td>1</td>\n",
       "      <td>1</td>\n",
       "      <td>0</td>\n",
       "    </tr>\n",
       "    <tr>\n",
       "      <th>160194</th>\n",
       "      <td>0</td>\n",
       "      <td>0</td>\n",
       "      <td>0</td>\n",
       "    </tr>\n",
       "  </tbody>\n",
       "</table>\n",
       "<p>77928 rows × 3 columns</p>\n",
       "</div>"
      ],
      "text/plain": [
       "        Actual  Predicted  result\n",
       "39028        1          1       0\n",
       "182072       0          0       0\n",
       "174192       0          0       0\n",
       "160430       0          0       0\n",
       "128510       1          1       0\n",
       "...        ...        ...     ...\n",
       "141227       0          0       0\n",
       "154418       0          0       0\n",
       "120092       1          1       0\n",
       "123497       1          1       0\n",
       "160194       0          0       0\n",
       "\n",
       "[77928 rows x 3 columns]"
      ]
     },
     "execution_count": 146,
     "metadata": {},
     "output_type": "execute_result"
    }
   ],
   "source": [
    "# resRFC['result']= (resRFC['Actual'] ^ resRFC['Predicted'])\n",
    "# resRFC"
   ]
  },
  {
   "cell_type": "code",
   "execution_count": 147,
   "id": "eb19664b",
   "metadata": {},
   "outputs": [
    {
     "data": {
      "text/plain": [
       "0    74079\n",
       "1     3849\n",
       "Name: result, dtype: int64"
      ]
     },
     "execution_count": 147,
     "metadata": {},
     "output_type": "execute_result"
    }
   ],
   "source": [
    "# resRFC['result'].value_counts()"
   ]
  },
  {
   "cell_type": "code",
   "execution_count": null,
   "id": "52aff37e",
   "metadata": {},
   "outputs": [],
   "source": []
  }
 ],
 "metadata": {
  "kernelspec": {
   "display_name": "Python 3",
   "language": "python",
   "name": "python3"
  },
  "language_info": {
   "codemirror_mode": {
    "name": "ipython",
    "version": 3
   },
   "file_extension": ".py",
   "mimetype": "text/x-python",
   "name": "python",
   "nbconvert_exporter": "python",
   "pygments_lexer": "ipython3",
   "version": "3.8.5"
  }
 },
 "nbformat": 4,
 "nbformat_minor": 5
}
